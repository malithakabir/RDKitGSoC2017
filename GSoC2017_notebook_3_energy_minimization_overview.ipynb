{
 "cells": [
  {
   "cell_type": "markdown",
   "metadata": {},
   "source": [
    "### RDKit Conformer Browser\n",
    "Derived from Greg Landrum's code by Malitha Humayun Kabir<br>\n",
    "As a part of GSoC 2017 <br>\n",
    "Project : RDKit - 3Dmol.js integration <br>\n",
    "Mentors: Paul Czodrowski and Greg Landrum <br>\n",
    "Date: 28th August 2017 <br>\n",
    "Acknowledgement: Peter Gedeck reviewed and provided advice on restructuring codes and wrote MolViewState class."
   ]
  },
  {
   "cell_type": "markdown",
   "metadata": {},
   "source": [
    "##### This notebook assumes that  IPythonConsoleIntegration and LigandExtract merged in RDKit code base. "
   ]
  },
  {
   "cell_type": "code",
   "execution_count": 1,
   "metadata": {
    "collapsed": true
   },
   "outputs": [],
   "source": [
    "from rdkit.Chem.Draw import IPythonConsoleIntegration as ipy\n",
    "from rdkit.Chem import LigandExtract\n",
    "from rdkit import Chem\n",
    "from rdkit.Chem import AllChem\n",
    "from six.moves import urllib"
   ]
  },
  {
   "cell_type": "markdown",
   "metadata": {},
   "source": [
    "#### A detailed overview on how to use MolView3D has been provided at the following two links. Interested readers are referred to those. "
   ]
  },
  {
   "cell_type": "markdown",
   "metadata": {},
   "source": [
    "https://github.com/malithakabir/RDKitGSoC2017/blob/master/GSoC2017_notebook_1_ConformerBrowse_panels_and_confSelection.ipynb\n",
    "https://github.com/malithakabir/RDKitGSoC2017/blob/master/GSoC2017_notebook_2_ConformerBrowse_with_proteins.ipynb"
   ]
  },
  {
   "cell_type": "markdown",
   "metadata": {},
   "source": [
    "Checking whether 3DMol.js loaded."
   ]
  },
  {
   "cell_type": "code",
   "execution_count": 2,
   "metadata": {},
   "outputs": [
    {
     "data": {
      "text/html": [
       "<div id=\"150405843275\"></div>\n",
       "    <script type=\"text/Javascript\">\n",
       "        function checkLibraryLoad()\n",
       "            {\n",
       "                if(typeof $3Dmolpromise === 'undefined')\n",
       "                {\n",
       "                    res = '3DMol.js not loaded'\n",
       "                } else {\n",
       "                    res = '3DMol.js already loaded'\n",
       "                }\n",
       "                return res\n",
       "            }\n",
       "        document.getElementById('150405843275').innerHTML = checkLibraryLoad()\n",
       "    </script>\n",
       "    "
      ],
      "text/plain": [
       "<IPython.core.display.HTML object>"
      ]
     },
     "execution_count": 2,
     "metadata": {},
     "output_type": "execute_result"
    }
   ],
   "source": [
    "ipy.Check3Dmolpromise()"
   ]
  },
  {
   "cell_type": "markdown",
   "metadata": {},
   "source": [
    "Since the library is not loaded we need to run the following cell."
   ]
  },
  {
   "cell_type": "code",
   "execution_count": 3,
   "metadata": {},
   "outputs": [
    {
     "data": {
      "text/html": [
       "<script href=\"https://raw.githubusercontent.com/3dmol/3Dmol.js/master/release/3Dmol.js\"></script>"
      ],
      "text/plain": [
       "<IPython.core.display.HTML object>"
      ]
     },
     "metadata": {},
     "output_type": "display_data"
    }
   ],
   "source": [
    "%%html\n",
    "<script href=\"https://raw.githubusercontent.com/3dmol/3Dmol.js/master/release/3Dmol.js\"></script>"
   ]
  },
  {
   "cell_type": "markdown",
   "metadata": {},
   "source": [
    "Now we are creating list of molecules."
   ]
  },
  {
   "cell_type": "code",
   "execution_count": 4,
   "metadata": {
    "collapsed": true
   },
   "outputs": [],
   "source": [
    "# Codes from Paolo Tosco (Slightly modified version)\n",
    "url = 'https://github.com/rdkit/rdkit/raw/master/Docs/Book/data/cdk2.sdf'\n",
    "response = urllib.request.urlopen(url)\n",
    "data = response.read()\n",
    "suppl = Chem.SDMolSupplier()\n",
    "suppl.SetData(data)\n",
    "molList = [mol for mol in suppl]"
   ]
  },
  {
   "cell_type": "code",
   "execution_count": 5,
   "metadata": {},
   "outputs": [
    {
     "name": "stdout",
     "output_type": "stream",
     "text": [
      "47\n"
     ]
    }
   ],
   "source": [
    "print(len(molList))"
   ]
  },
  {
   "cell_type": "markdown",
   "metadata": {},
   "source": [
    "For the convenience of demonstration, we will be using only 4 molecules from the list."
   ]
  },
  {
   "cell_type": "code",
   "execution_count": 6,
   "metadata": {
    "collapsed": true
   },
   "outputs": [],
   "source": [
    "molList_2 = molList[:4]"
   ]
  },
  {
   "cell_type": "markdown",
   "metadata": {},
   "source": [
    "Now it is time for generating few conformers per molecule. In this example we are generating 10 conformers for each molecule."
   ]
  },
  {
   "cell_type": "code",
   "execution_count": 7,
   "metadata": {
    "collapsed": true
   },
   "outputs": [],
   "source": [
    "params = AllChem.ETKDG()\n",
    "params.numThreads=3\n",
    "for m in molList_2:\n",
    "    AllChem.EmbedMultipleConfs(m,numConfs=10,params=params)\n"
   ]
  },
  {
   "cell_type": "markdown",
   "metadata": {},
   "source": [
    "Converting molList (list type object) to dictionary (type = dict)"
   ]
  },
  {
   "cell_type": "code",
   "execution_count": 8,
   "metadata": {},
   "outputs": [
    {
     "name": "stdout",
     "output_type": "stream",
     "text": [
      "molecule keys within dictionary is : <type 'str'>\n",
      "The following are the molecule keys : \n",
      "['1', '0', '3', '2']\n"
     ]
    }
   ],
   "source": [
    "molList_3 = [(str(ids),mol) for ids,mol in enumerate(molList_2)]\n",
    "molDict = dict(molList_3)\n",
    "print('molecule keys within dictionary is : ' + str(type(list(molDict.keys())[0])))\n",
    "print('The following are the molecule keys : ')\n",
    "print(list(molDict.keys()))"
   ]
  },
  {
   "cell_type": "code",
   "execution_count": 9,
   "metadata": {},
   "outputs": [
    {
     "data": {
      "text/plain": [
       "{'0': <rdkit.Chem.rdchem.Mol at 0x7f617d625210>,\n",
       " '1': <rdkit.Chem.rdchem.Mol at 0x7f617d625280>,\n",
       " '2': <rdkit.Chem.rdchem.Mol at 0x7f617d6252f0>,\n",
       " '3': <rdkit.Chem.rdchem.Mol at 0x7f617d625360>}"
      ]
     },
     "execution_count": 9,
     "metadata": {},
     "output_type": "execute_result"
    }
   ],
   "source": [
    "molDict"
   ]
  },
  {
   "cell_type": "markdown",
   "metadata": {},
   "source": [
    "Processing molDict to make it compatible for MolView3D can be done by ProcessLigandDict function. This function adds a tag 'parent' to each of the molecule present. We can change this tag. But changing this tag should be tracked down. Or we can accept default. "
   ]
  },
  {
   "cell_type": "code",
   "execution_count": 10,
   "metadata": {
    "collapsed": true
   },
   "outputs": [],
   "source": [
    "kpm = 'newparent'\n",
    "molDict_2 = ipy.ProcessLigandDict(molDict, keyForParentMol = kpm)"
   ]
  },
  {
   "cell_type": "code",
   "execution_count": 11,
   "metadata": {},
   "outputs": [
    {
     "data": {
      "text/plain": [
       "{'0': {'newparent': <rdkit.Chem.rdchem.Mol at 0x7f617d625210>},\n",
       " '1': {'newparent': <rdkit.Chem.rdchem.Mol at 0x7f617d625280>},\n",
       " '2': {'newparent': <rdkit.Chem.rdchem.Mol at 0x7f617d6252f0>},\n",
       " '3': {'newparent': <rdkit.Chem.rdchem.Mol at 0x7f617d625360>}}"
      ]
     },
     "execution_count": 11,
     "metadata": {},
     "output_type": "execute_result"
    }
   ],
   "source": [
    "molDict_2"
   ]
  },
  {
   "cell_type": "markdown",
   "metadata": {},
   "source": [
    "Great! we have got new tags in molDict_2. Now we are ready for energy minimization."
   ]
  },
  {
   "cell_type": "markdown",
   "metadata": {
    "collapsed": true
   },
   "source": [
    "MinimizeLigand function can be used to perform energy minimization of ligand. If we accept default then we just need to parse only one argument (ligandDict = molDict_2).<br><br> Here are the default arguments for MinimizeLigand function except ligandDict: <br>keyForParentMol = 'parent'<br>keyForMinimizedMol = 'minimized'<br>energyDataKey = 'energy'<br>molAndConfIds = 'allConfs'<br>ff = 'UFF'<br>maxIters = 50 <br><br>And we are trying to override those arguments so that we can use the same dictionary again and again.\n"
   ]
  },
  {
   "cell_type": "code",
   "execution_count": 12,
   "metadata": {
    "collapsed": true
   },
   "outputs": [],
   "source": [
    "kmm = 'newminimized'\n",
    "ke = 'minimizationEnergy'\n",
    "ids = 'allConfs'\n",
    "forceField = 'UFF'\n",
    "maximumIterations = 100"
   ]
  },
  {
   "cell_type": "code",
   "execution_count": 13,
   "metadata": {
    "collapsed": true
   },
   "outputs": [],
   "source": [
    "molDict_3 = ipy.MinimizeLigand(ligandDict = molDict_2, \n",
    "                               keyForParentMol = kpm, \n",
    "                               keyForMinimizedMol = kmm,\n",
    "                               energyDataKey = ke,\n",
    "                               molAndConfIds = ids, \n",
    "                               ff = forceField, \n",
    "                               maxIters = maximumIterations)"
   ]
  },
  {
   "cell_type": "code",
   "execution_count": 14,
   "metadata": {},
   "outputs": [
    {
     "data": {
      "text/plain": [
       "{'0': {'minimizationEnergy': {0: 54.37722035959141,\n",
       "   1: 52.870120130847205,\n",
       "   2: 54.628867021683185,\n",
       "   3: 55.39062883633577,\n",
       "   4: 54.018535072057865,\n",
       "   5: 54.375169529453196,\n",
       "   6: 54.385585955187,\n",
       "   7: 54.628867023023076,\n",
       "   8: 54.394363913159374,\n",
       "   9: 54.37538343655261},\n",
       "  'newminimized': <rdkit.Chem.rdchem.Mol at 0x7f617d62a910>,\n",
       "  'newparent': <rdkit.Chem.rdchem.Mol at 0x7f617d625210>},\n",
       " '1': {'minimizationEnergy': {0: 59.877198010058564,\n",
       "   1: 59.61535881452488,\n",
       "   2: 60.571271828302024,\n",
       "   3: 60.188943233746336,\n",
       "   4: 60.57127184583709,\n",
       "   5: 59.62132531962908,\n",
       "   6: 59.87765851866043,\n",
       "   7: 59.615358813127706,\n",
       "   8: 60.73622788924266,\n",
       "   9: 59.61535880769493},\n",
       "  'newminimized': <rdkit.Chem.rdchem.Mol at 0x7f617d62a830>,\n",
       "  'newparent': <rdkit.Chem.rdchem.Mol at 0x7f617d625280>},\n",
       " '2': {'minimizationEnergy': {0: 64.33622381619975,\n",
       "   1: 64.93001602412583,\n",
       "   2: 64.20217153489754,\n",
       "   3: 64.76374578578816,\n",
       "   4: 64.76374583029842,\n",
       "   5: 64.33622383934015,\n",
       "   6: 65.70382462201349,\n",
       "   7: 64.20217153481056,\n",
       "   8: 64.33622382155791,\n",
       "   9: 64.93001601910062},\n",
       "  'newminimized': <rdkit.Chem.rdchem.Mol at 0x7f617d62aa60>,\n",
       "  'newparent': <rdkit.Chem.rdchem.Mol at 0x7f617d6252f0>},\n",
       " '3': {'minimizationEnergy': {0: 57.25399746269874,\n",
       "   1: 66.55495205999405,\n",
       "   2: 58.671507825416946,\n",
       "   3: 66.06128923922788,\n",
       "   4: 66.30541986899755,\n",
       "   5: 66.06128923818677,\n",
       "   6: 66.55495215599464,\n",
       "   7: 66.65134152421561,\n",
       "   8: 66.25599894338406,\n",
       "   9: 66.55495207421632},\n",
       "  'newminimized': <rdkit.Chem.rdchem.Mol at 0x7f617d62a9f0>,\n",
       "  'newparent': <rdkit.Chem.rdchem.Mol at 0x7f617d625360>}}"
      ]
     },
     "execution_count": 14,
     "metadata": {},
     "output_type": "execute_result"
    }
   ],
   "source": [
    "molDict_3"
   ]
  },
  {
   "cell_type": "markdown",
   "metadata": {
    "collapsed": true
   },
   "source": [
    "Now we have everything set for viewing minimization energy data with conformers. <br><br> Please note that values for the arguments ligStyle and emLigStyle are already in default settings. <br> <br> And since we have override the default tags of ligDict we need to input new tags in MolView3D also. "
   ]
  },
  {
   "cell_type": "code",
   "execution_count": 15,
   "metadata": {},
   "outputs": [
    {
     "data": {
      "application/vnd.jupyter.widget-view+json": {
       "model_id": "374c9314f74e4d2098067a7856a26809"
      }
     },
     "metadata": {},
     "output_type": "display_data"
    },
    {
     "data": {
      "text/html": [
       "<div id=\"3dmolviewer_150405847205\"  style=\"position: relative; width: 435px; height: 485px\">\n",
       "<script>\n",
       "if(typeof $3Dmolpromise === 'undefined') $3Dmolpromise = $.when($.getScript('https://3dmol.csb.pitt.edu/build/3Dmol.js'))\n",
       "var viewer_150405847205 = null;\n",
       "$3Dmolpromise.done(function() {\n",
       "viewer_150405847205 = $3Dmol.createViewer($(\"#3dmolviewer_150405847205\"),{backgroundColor:\"white\"});\n",
       "\tviewer_150405847205.setBackgroundColor(\"0x000000\");\n",
       "\tviewer_150405847205.zoomTo();\n",
       "viewer_150405847205.render();\n",
       "});\n",
       "</script><script>$(\"#150405847201\").append($(\"#3dmolviewer_150405847205\")); </script>"
      ],
      "text/plain": [
       "<IPython.core.display.HTML object>"
      ]
     },
     "metadata": {},
     "output_type": "display_data"
    },
    {
     "data": {
      "text/html": [
       "<script>\n",
       "            $3Dmolpromise.done(function() { //wrap in promise for non-interactive functionality\n",
       "                \tviewer_150405847205.removeAllLabels();\n",
       "\tviewer_150405847205.removeAllModels();\n",
       "\tviewer_150405847205.removeAllSurfaces();\n",
       "\tviewer_150405847205.setBackgroundColor(\"0x000000\");\n",
       "\tviewer_150405847205.addModel(\"ZINC03814459\\n     RDKit          3D\\n\\n 17 19  0  0  1  0  0  0  0  0999 V2000\\n   -2.7070    2.7548    0.3363 C   0  0  0  0  0  0  0  0  0  0  0  0\\n   -3.5560    1.7162    0.3813 N   0  0  0  0  0  0  0  0  0  0  0  0\\n   -2.9147    0.5643    0.2019 C   0  0  0  0  0  0  0  0  0  0  0  0\\n   -1.5678    0.8778    0.0303 C   0  0  0  0  0  0  0  0  0  0  0  0\\n   -1.4917    2.2193    0.1200 N   0  0  0  0  0  0  0  0  0  0  0  0\\n   -0.6581   -0.1294   -0.1771 C   0  0  0  0  0  0  0  0  0  0  0  0\\n   -1.0881   -1.3934   -0.2098 N   0  0  0  0  0  0  0  0  0  0  0  0\\n   -2.3775   -1.7101   -0.0468 C   0  0  0  0  0  0  0  0  0  0  0  0\\n   -3.2650   -0.7287    0.1555 N   0  0  0  0  0  0  0  0  0  0  0  0\\n   -2.8171   -3.0876   -0.0866 N   0  0  0  0  0  0  0  0  0  0  0  0\\n    0.6789    0.1993   -0.3461 O   0  0  0  0  0  0  0  0  0  0  0  0\\n    1.6425   -0.8163   -0.5620 C   0  0  0  0  0  0  0  0  0  0  0  0\\n    2.9871   -0.0956   -0.7026 C   0  0  0  0  0  0  0  0  0  0  0  0\\n    3.2390    0.5900    0.6206 C   0  0  0  0  0  0  0  0  0  0  0  0\\n    4.7055    0.2935    0.8558 C   0  0  0  0  0  0  0  0  0  0  0  0\\n    5.1642   -0.2797   -0.4709 C   0  0  0  0  0  0  0  0  0  0  0  0\\n    4.0258   -0.9742   -0.9191 O   0  0  0  0  0  0  0  0  0  0  0  0\\n  1  5  2  0\\n  1  2  1  0\\n  2  3  1  0\\n  3  9  1  0\\n  3  4  2  0\\n  4  5  1  0\\n  4  6  1  0\\n  6  7  2  0\\n  6 11  1  0\\n  7  8  1  0\\n  8  9  2  0\\n  8 10  1  0\\n 11 12  1  0\\n 12 13  1  0\\n 13 17  1  0\\n 13 14  1  0\\n 14 15  1  0\\n 15 16  1  0\\n 16 17  1  0\\nM  END\\n\",\"sdf\");\n",
       "\tviewer_150405847205.setStyle({\"model\": 0},{\"line\": {\"colorscheme\": \"default\"}});\n",
       "\tviewer_150405847205.addModel(\"ZINC03814459\\n     RDKit          3D\\n\\n 17 19  0  0  1  0  0  0  0  0999 V2000\\n   -2.7998    2.6535    0.2989 C   0  0  0  0  0  0  0  0  0  0  0  0\\n   -3.7083    1.6401    0.3518 N   0  0  0  0  0  0  0  0  0  0  0  0\\n   -2.9410    0.5573    0.1800 C   0  0  0  0  0  0  0  0  0  0  0  0\\n   -1.6480    0.9070    0.0329 C   0  0  0  0  0  0  0  0  0  0  0  0\\n   -1.5173    2.2380    0.1031 N   0  0  0  0  0  0  0  0  0  0  0  0\\n   -0.6771   -0.0651   -0.1582 C   0  0  0  0  0  0  0  0  0  0  0  0\\n   -1.0875   -1.3703   -0.1895 N   0  0  0  0  0  0  0  0  0  0  0  0\\n   -2.4093   -1.7056   -0.0378 C   0  0  0  0  0  0  0  0  0  0  0  0\\n   -3.3526   -0.7331    0.1497 N   0  0  0  0  0  0  0  0  0  0  0  0\\n   -2.8007   -3.0723   -0.0757 N   0  0  0  0  0  0  0  0  0  0  0  0\\n    0.6647    0.2844   -0.3112 O   0  0  0  0  0  0  0  0  0  0  0  0\\n    1.6766   -0.6933   -0.5060 C   0  0  0  0  0  0  0  0  0  0  0  0\\n    3.0313   -0.0198   -0.6246 C   0  0  0  0  0  0  0  0  0  0  0  0\\n    3.4511    0.5575    0.7084 C   0  0  0  0  0  0  0  0  0  0  0  0\\n    4.9175    0.2580    0.7838 C   0  0  0  0  0  0  0  0  0  0  0  0\\n    5.2061   -0.4782   -0.5034 C   0  0  0  0  0  0  0  0  0  0  0  0\\n    3.9944   -0.9579   -1.0214 O   0  0  0  0  0  0  0  0  0  0  0  0\\n  1  5  2  0\\n  1  2  1  0\\n  2  3  1  0\\n  3  9  1  0\\n  3  4  2  0\\n  4  5  1  0\\n  4  6  1  0\\n  6  7  2  0\\n  6 11  1  0\\n  7  8  1  0\\n  8  9  2  0\\n  8 10  1  0\\n 11 12  1  0\\n 12 13  1  0\\n 13 17  1  0\\n 13 14  1  0\\n 14 15  1  0\\n 15 16  1  0\\n 16 17  1  0\\nM  END\\n\",\"sdf\");\n",
       "\tviewer_150405847205.setStyle({\"model\": 1},{\"line\": {\"colorscheme\": \"whiteCarbon\"}});\n",
       "\tviewer_150405847205.zoomTo();\n",
       "\tviewer_150405847205.removeAllLabels();\n",
       "\tviewer_150405847205.removeAllModels();\n",
       "\tviewer_150405847205.removeAllSurfaces();\n",
       "\tviewer_150405847205.setBackgroundColor(\"0x000000\");\n",
       "\tviewer_150405847205.addModel(\"ZINC03814459\\n     RDKit          3D\\n\\n 17 19  0  0  1  0  0  0  0  0999 V2000\\n   -2.7070    2.7548    0.3363 C   0  0  0  0  0  0  0  0  0  0  0  0\\n   -3.5560    1.7162    0.3813 N   0  0  0  0  0  0  0  0  0  0  0  0\\n   -2.9147    0.5643    0.2019 C   0  0  0  0  0  0  0  0  0  0  0  0\\n   -1.5678    0.8778    0.0303 C   0  0  0  0  0  0  0  0  0  0  0  0\\n   -1.4917    2.2193    0.1200 N   0  0  0  0  0  0  0  0  0  0  0  0\\n   -0.6581   -0.1294   -0.1771 C   0  0  0  0  0  0  0  0  0  0  0  0\\n   -1.0881   -1.3934   -0.2098 N   0  0  0  0  0  0  0  0  0  0  0  0\\n   -2.3775   -1.7101   -0.0468 C   0  0  0  0  0  0  0  0  0  0  0  0\\n   -3.2650   -0.7287    0.1555 N   0  0  0  0  0  0  0  0  0  0  0  0\\n   -2.8171   -3.0876   -0.0866 N   0  0  0  0  0  0  0  0  0  0  0  0\\n    0.6789    0.1993   -0.3461 O   0  0  0  0  0  0  0  0  0  0  0  0\\n    1.6425   -0.8163   -0.5620 C   0  0  0  0  0  0  0  0  0  0  0  0\\n    2.9871   -0.0956   -0.7026 C   0  0  0  0  0  0  0  0  0  0  0  0\\n    3.2390    0.5900    0.6206 C   0  0  0  0  0  0  0  0  0  0  0  0\\n    4.7055    0.2935    0.8558 C   0  0  0  0  0  0  0  0  0  0  0  0\\n    5.1642   -0.2797   -0.4709 C   0  0  0  0  0  0  0  0  0  0  0  0\\n    4.0258   -0.9742   -0.9191 O   0  0  0  0  0  0  0  0  0  0  0  0\\n  1  5  2  0\\n  1  2  1  0\\n  2  3  1  0\\n  3  9  1  0\\n  3  4  2  0\\n  4  5  1  0\\n  4  6  1  0\\n  6  7  2  0\\n  6 11  1  0\\n  7  8  1  0\\n  8  9  2  0\\n  8 10  1  0\\n 11 12  1  0\\n 12 13  1  0\\n 13 17  1  0\\n 13 14  1  0\\n 14 15  1  0\\n 15 16  1  0\\n 16 17  1  0\\nM  END\\n\",\"sdf\");\n",
       "\tviewer_150405847205.setStyle({\"model\": 0},{\"line\": {\"colorscheme\": \"default\"}});\n",
       "\tviewer_150405847205.addModel(\"ZINC03814459\\n     RDKit          3D\\n\\n 17 19  0  0  1  0  0  0  0  0999 V2000\\n   -2.7998    2.6535    0.2989 C   0  0  0  0  0  0  0  0  0  0  0  0\\n   -3.7083    1.6401    0.3518 N   0  0  0  0  0  0  0  0  0  0  0  0\\n   -2.9410    0.5573    0.1800 C   0  0  0  0  0  0  0  0  0  0  0  0\\n   -1.6480    0.9070    0.0329 C   0  0  0  0  0  0  0  0  0  0  0  0\\n   -1.5173    2.2380    0.1031 N   0  0  0  0  0  0  0  0  0  0  0  0\\n   -0.6771   -0.0651   -0.1582 C   0  0  0  0  0  0  0  0  0  0  0  0\\n   -1.0875   -1.3703   -0.1895 N   0  0  0  0  0  0  0  0  0  0  0  0\\n   -2.4093   -1.7056   -0.0378 C   0  0  0  0  0  0  0  0  0  0  0  0\\n   -3.3526   -0.7331    0.1497 N   0  0  0  0  0  0  0  0  0  0  0  0\\n   -2.8007   -3.0723   -0.0757 N   0  0  0  0  0  0  0  0  0  0  0  0\\n    0.6647    0.2844   -0.3112 O   0  0  0  0  0  0  0  0  0  0  0  0\\n    1.6766   -0.6933   -0.5060 C   0  0  0  0  0  0  0  0  0  0  0  0\\n    3.0313   -0.0198   -0.6246 C   0  0  0  0  0  0  0  0  0  0  0  0\\n    3.4511    0.5575    0.7084 C   0  0  0  0  0  0  0  0  0  0  0  0\\n    4.9175    0.2580    0.7838 C   0  0  0  0  0  0  0  0  0  0  0  0\\n    5.2061   -0.4782   -0.5034 C   0  0  0  0  0  0  0  0  0  0  0  0\\n    3.9944   -0.9579   -1.0214 O   0  0  0  0  0  0  0  0  0  0  0  0\\n  1  5  2  0\\n  1  2  1  0\\n  2  3  1  0\\n  3  9  1  0\\n  3  4  2  0\\n  4  5  1  0\\n  4  6  1  0\\n  6  7  2  0\\n  6 11  1  0\\n  7  8  1  0\\n  8  9  2  0\\n  8 10  1  0\\n 11 12  1  0\\n 12 13  1  0\\n 13 17  1  0\\n 13 14  1  0\\n 14 15  1  0\\n 15 16  1  0\\n 16 17  1  0\\nM  END\\n\",\"sdf\");\n",
       "\tviewer_150405847205.setStyle({\"model\": 1},{\"line\": {\"colorscheme\": \"whiteCarbon\"}});\n",
       "\n",
       "                viewer_150405847205.render();\n",
       "            });\n",
       "            </script>"
      ],
      "text/plain": [
       "<IPython.core.display.HTML object>"
      ]
     },
     "metadata": {},
     "output_type": "display_data"
    },
    {
     "data": {
      "text/html": [
       "<script>\n",
       "            $3Dmolpromise.done(function() { //wrap in promise for non-interactive functionality\n",
       "                \n",
       "                viewer_150405847205.render();\n",
       "            });\n",
       "            </script>"
      ],
      "text/plain": [
       "<IPython.core.display.HTML object>"
      ]
     },
     "metadata": {},
     "output_type": "display_data"
    },
    {
     "data": {
      "text/html": [
       "<script>\n",
       "            $3Dmolpromise.done(function() { //wrap in promise for non-interactive functionality\n",
       "                \tviewer_150405847205.removeAllLabels();\n",
       "\tviewer_150405847205.removeAllModels();\n",
       "\tviewer_150405847205.removeAllSurfaces();\n",
       "\tviewer_150405847205.setBackgroundColor(\"0x000000\");\n",
       "\tviewer_150405847205.addModel(\"ZINC03814459\\n     RDKit          3D\\n\\n 17 19  0  0  1  0  0  0  0  0999 V2000\\n   -2.7070    2.7548    0.3363 C   0  0  0  0  0  0  0  0  0  0  0  0\\n   -3.5560    1.7162    0.3813 N   0  0  0  0  0  0  0  0  0  0  0  0\\n   -2.9147    0.5643    0.2019 C   0  0  0  0  0  0  0  0  0  0  0  0\\n   -1.5678    0.8778    0.0303 C   0  0  0  0  0  0  0  0  0  0  0  0\\n   -1.4917    2.2193    0.1200 N   0  0  0  0  0  0  0  0  0  0  0  0\\n   -0.6581   -0.1294   -0.1771 C   0  0  0  0  0  0  0  0  0  0  0  0\\n   -1.0881   -1.3934   -0.2098 N   0  0  0  0  0  0  0  0  0  0  0  0\\n   -2.3775   -1.7101   -0.0468 C   0  0  0  0  0  0  0  0  0  0  0  0\\n   -3.2650   -0.7287    0.1555 N   0  0  0  0  0  0  0  0  0  0  0  0\\n   -2.8171   -3.0876   -0.0866 N   0  0  0  0  0  0  0  0  0  0  0  0\\n    0.6789    0.1993   -0.3461 O   0  0  0  0  0  0  0  0  0  0  0  0\\n    1.6425   -0.8163   -0.5620 C   0  0  0  0  0  0  0  0  0  0  0  0\\n    2.9871   -0.0956   -0.7026 C   0  0  0  0  0  0  0  0  0  0  0  0\\n    3.2390    0.5900    0.6206 C   0  0  0  0  0  0  0  0  0  0  0  0\\n    4.7055    0.2935    0.8558 C   0  0  0  0  0  0  0  0  0  0  0  0\\n    5.1642   -0.2797   -0.4709 C   0  0  0  0  0  0  0  0  0  0  0  0\\n    4.0258   -0.9742   -0.9191 O   0  0  0  0  0  0  0  0  0  0  0  0\\n  1  5  2  0\\n  1  2  1  0\\n  2  3  1  0\\n  3  9  1  0\\n  3  4  2  0\\n  4  5  1  0\\n  4  6  1  0\\n  6  7  2  0\\n  6 11  1  0\\n  7  8  1  0\\n  8  9  2  0\\n  8 10  1  0\\n 11 12  1  0\\n 12 13  1  0\\n 13 17  1  0\\n 13 14  1  0\\n 14 15  1  0\\n 15 16  1  0\\n 16 17  1  0\\nM  END\\n\",\"sdf\");\n",
       "\tviewer_150405847205.setStyle({\"model\": 0},{\"line\": {\"colorscheme\": \"default\"}});\n",
       "\tviewer_150405847205.addModel(\"ZINC03814459\\n     RDKit          3D\\n\\n 17 19  0  0  1  0  0  0  0  0999 V2000\\n   -2.7998    2.6535    0.2989 C   0  0  0  0  0  0  0  0  0  0  0  0\\n   -3.7083    1.6401    0.3518 N   0  0  0  0  0  0  0  0  0  0  0  0\\n   -2.9410    0.5573    0.1800 C   0  0  0  0  0  0  0  0  0  0  0  0\\n   -1.6480    0.9070    0.0329 C   0  0  0  0  0  0  0  0  0  0  0  0\\n   -1.5173    2.2380    0.1031 N   0  0  0  0  0  0  0  0  0  0  0  0\\n   -0.6771   -0.0651   -0.1582 C   0  0  0  0  0  0  0  0  0  0  0  0\\n   -1.0875   -1.3703   -0.1895 N   0  0  0  0  0  0  0  0  0  0  0  0\\n   -2.4093   -1.7056   -0.0378 C   0  0  0  0  0  0  0  0  0  0  0  0\\n   -3.3526   -0.7331    0.1497 N   0  0  0  0  0  0  0  0  0  0  0  0\\n   -2.8007   -3.0723   -0.0757 N   0  0  0  0  0  0  0  0  0  0  0  0\\n    0.6647    0.2844   -0.3112 O   0  0  0  0  0  0  0  0  0  0  0  0\\n    1.6766   -0.6933   -0.5060 C   0  0  0  0  0  0  0  0  0  0  0  0\\n    3.0313   -0.0198   -0.6246 C   0  0  0  0  0  0  0  0  0  0  0  0\\n    3.4511    0.5575    0.7084 C   0  0  0  0  0  0  0  0  0  0  0  0\\n    4.9175    0.2580    0.7838 C   0  0  0  0  0  0  0  0  0  0  0  0\\n    5.2061   -0.4782   -0.5034 C   0  0  0  0  0  0  0  0  0  0  0  0\\n    3.9944   -0.9579   -1.0214 O   0  0  0  0  0  0  0  0  0  0  0  0\\n  1  5  2  0\\n  1  2  1  0\\n  2  3  1  0\\n  3  9  1  0\\n  3  4  2  0\\n  4  5  1  0\\n  4  6  1  0\\n  6  7  2  0\\n  6 11  1  0\\n  7  8  1  0\\n  8  9  2  0\\n  8 10  1  0\\n 11 12  1  0\\n 12 13  1  0\\n 13 17  1  0\\n 13 14  1  0\\n 14 15  1  0\\n 15 16  1  0\\n 16 17  1  0\\nM  END\\n\",\"sdf\");\n",
       "\tviewer_150405847205.setStyle({\"model\": 1},{\"line\": {\"colorscheme\": \"whiteCarbon\"}});\n",
       "\n",
       "                viewer_150405847205.render();\n",
       "            });\n",
       "            </script>"
      ],
      "text/plain": [
       "<IPython.core.display.HTML object>"
      ]
     },
     "metadata": {},
     "output_type": "display_data"
    },
    {
     "data": {
      "text/html": [
       "<script>\n",
       "            $3Dmolpromise.done(function() { //wrap in promise for non-interactive functionality\n",
       "                \tviewer_150405847205.removeAllLabels();\n",
       "\tviewer_150405847205.removeAllModels();\n",
       "\tviewer_150405847205.removeAllSurfaces();\n",
       "\tviewer_150405847205.setBackgroundColor(\"0x000000\");\n",
       "\tviewer_150405847205.addModel(\"ZINC03814459\\n     RDKit          3D\\n\\n 17 19  0  0  1  0  0  0  0  0999 V2000\\n   -2.7070    2.7548    0.3363 C   0  0  0  0  0  0  0  0  0  0  0  0\\n   -3.5560    1.7162    0.3813 N   0  0  0  0  0  0  0  0  0  0  0  0\\n   -2.9147    0.5643    0.2019 C   0  0  0  0  0  0  0  0  0  0  0  0\\n   -1.5678    0.8778    0.0303 C   0  0  0  0  0  0  0  0  0  0  0  0\\n   -1.4917    2.2193    0.1200 N   0  0  0  0  0  0  0  0  0  0  0  0\\n   -0.6581   -0.1294   -0.1771 C   0  0  0  0  0  0  0  0  0  0  0  0\\n   -1.0881   -1.3934   -0.2098 N   0  0  0  0  0  0  0  0  0  0  0  0\\n   -2.3775   -1.7101   -0.0468 C   0  0  0  0  0  0  0  0  0  0  0  0\\n   -3.2650   -0.7287    0.1555 N   0  0  0  0  0  0  0  0  0  0  0  0\\n   -2.8171   -3.0876   -0.0866 N   0  0  0  0  0  0  0  0  0  0  0  0\\n    0.6789    0.1993   -0.3461 O   0  0  0  0  0  0  0  0  0  0  0  0\\n    1.6425   -0.8163   -0.5620 C   0  0  0  0  0  0  0  0  0  0  0  0\\n    2.9871   -0.0956   -0.7026 C   0  0  0  0  0  0  0  0  0  0  0  0\\n    3.2390    0.5900    0.6206 C   0  0  0  0  0  0  0  0  0  0  0  0\\n    4.7055    0.2935    0.8558 C   0  0  0  0  0  0  0  0  0  0  0  0\\n    5.1642   -0.2797   -0.4709 C   0  0  0  0  0  0  0  0  0  0  0  0\\n    4.0258   -0.9742   -0.9191 O   0  0  0  0  0  0  0  0  0  0  0  0\\n  1  5  2  0\\n  1  2  1  0\\n  2  3  1  0\\n  3  9  1  0\\n  3  4  2  0\\n  4  5  1  0\\n  4  6  1  0\\n  6  7  2  0\\n  6 11  1  0\\n  7  8  1  0\\n  8  9  2  0\\n  8 10  1  0\\n 11 12  1  0\\n 12 13  1  0\\n 13 17  1  0\\n 13 14  1  0\\n 14 15  1  0\\n 15 16  1  0\\n 16 17  1  0\\nM  END\\n\",\"sdf\");\n",
       "\tviewer_150405847205.setStyle({\"model\": 0},{\"line\": {\"colorscheme\": \"default\"}});\n",
       "\tviewer_150405847205.addModel(\"ZINC03814459\\n     RDKit          3D\\n\\n 17 19  0  0  1  0  0  0  0  0999 V2000\\n   -2.7998    2.6535    0.2989 C   0  0  0  0  0  0  0  0  0  0  0  0\\n   -3.7083    1.6401    0.3518 N   0  0  0  0  0  0  0  0  0  0  0  0\\n   -2.9410    0.5573    0.1800 C   0  0  0  0  0  0  0  0  0  0  0  0\\n   -1.6480    0.9070    0.0329 C   0  0  0  0  0  0  0  0  0  0  0  0\\n   -1.5173    2.2380    0.1031 N   0  0  0  0  0  0  0  0  0  0  0  0\\n   -0.6771   -0.0651   -0.1582 C   0  0  0  0  0  0  0  0  0  0  0  0\\n   -1.0875   -1.3703   -0.1895 N   0  0  0  0  0  0  0  0  0  0  0  0\\n   -2.4093   -1.7056   -0.0378 C   0  0  0  0  0  0  0  0  0  0  0  0\\n   -3.3526   -0.7331    0.1497 N   0  0  0  0  0  0  0  0  0  0  0  0\\n   -2.8007   -3.0723   -0.0757 N   0  0  0  0  0  0  0  0  0  0  0  0\\n    0.6647    0.2844   -0.3112 O   0  0  0  0  0  0  0  0  0  0  0  0\\n    1.6766   -0.6933   -0.5060 C   0  0  0  0  0  0  0  0  0  0  0  0\\n    3.0313   -0.0198   -0.6246 C   0  0  0  0  0  0  0  0  0  0  0  0\\n    3.4511    0.5575    0.7084 C   0  0  0  0  0  0  0  0  0  0  0  0\\n    4.9175    0.2580    0.7838 C   0  0  0  0  0  0  0  0  0  0  0  0\\n    5.2061   -0.4782   -0.5034 C   0  0  0  0  0  0  0  0  0  0  0  0\\n    3.9944   -0.9579   -1.0214 O   0  0  0  0  0  0  0  0  0  0  0  0\\n  1  5  2  0\\n  1  2  1  0\\n  2  3  1  0\\n  3  9  1  0\\n  3  4  2  0\\n  4  5  1  0\\n  4  6  1  0\\n  6  7  2  0\\n  6 11  1  0\\n  7  8  1  0\\n  8  9  2  0\\n  8 10  1  0\\n 11 12  1  0\\n 12 13  1  0\\n 13 17  1  0\\n 13 14  1  0\\n 14 15  1  0\\n 15 16  1  0\\n 16 17  1  0\\nM  END\\n\",\"sdf\");\n",
       "\tviewer_150405847205.setStyle({\"model\": 1},{\"line\": {\"colorscheme\": \"blueCarbon\"}});\n",
       "\n",
       "                viewer_150405847205.render();\n",
       "            });\n",
       "            </script>"
      ],
      "text/plain": [
       "<IPython.core.display.HTML object>"
      ]
     },
     "metadata": {},
     "output_type": "display_data"
    },
    {
     "data": {
      "text/html": [
       "<script>\n",
       "            $3Dmolpromise.done(function() { //wrap in promise for non-interactive functionality\n",
       "                \tviewer_150405847205.removeAllLabels();\n",
       "\tviewer_150405847205.removeAllModels();\n",
       "\tviewer_150405847205.removeAllSurfaces();\n",
       "\tviewer_150405847205.setBackgroundColor(\"0x000000\");\n",
       "\tviewer_150405847205.addModel(\"ZINC03814459\\n     RDKit          3D\\n\\n 17 19  0  0  1  0  0  0  0  0999 V2000\\n   -2.7070    2.7548    0.3363 C   0  0  0  0  0  0  0  0  0  0  0  0\\n   -3.5560    1.7162    0.3813 N   0  0  0  0  0  0  0  0  0  0  0  0\\n   -2.9147    0.5643    0.2019 C   0  0  0  0  0  0  0  0  0  0  0  0\\n   -1.5678    0.8778    0.0303 C   0  0  0  0  0  0  0  0  0  0  0  0\\n   -1.4917    2.2193    0.1200 N   0  0  0  0  0  0  0  0  0  0  0  0\\n   -0.6581   -0.1294   -0.1771 C   0  0  0  0  0  0  0  0  0  0  0  0\\n   -1.0881   -1.3934   -0.2098 N   0  0  0  0  0  0  0  0  0  0  0  0\\n   -2.3775   -1.7101   -0.0468 C   0  0  0  0  0  0  0  0  0  0  0  0\\n   -3.2650   -0.7287    0.1555 N   0  0  0  0  0  0  0  0  0  0  0  0\\n   -2.8171   -3.0876   -0.0866 N   0  0  0  0  0  0  0  0  0  0  0  0\\n    0.6789    0.1993   -0.3461 O   0  0  0  0  0  0  0  0  0  0  0  0\\n    1.6425   -0.8163   -0.5620 C   0  0  0  0  0  0  0  0  0  0  0  0\\n    2.9871   -0.0956   -0.7026 C   0  0  0  0  0  0  0  0  0  0  0  0\\n    3.2390    0.5900    0.6206 C   0  0  0  0  0  0  0  0  0  0  0  0\\n    4.7055    0.2935    0.8558 C   0  0  0  0  0  0  0  0  0  0  0  0\\n    5.1642   -0.2797   -0.4709 C   0  0  0  0  0  0  0  0  0  0  0  0\\n    4.0258   -0.9742   -0.9191 O   0  0  0  0  0  0  0  0  0  0  0  0\\n  1  5  2  0\\n  1  2  1  0\\n  2  3  1  0\\n  3  9  1  0\\n  3  4  2  0\\n  4  5  1  0\\n  4  6  1  0\\n  6  7  2  0\\n  6 11  1  0\\n  7  8  1  0\\n  8  9  2  0\\n  8 10  1  0\\n 11 12  1  0\\n 12 13  1  0\\n 13 17  1  0\\n 13 14  1  0\\n 14 15  1  0\\n 15 16  1  0\\n 16 17  1  0\\nM  END\\n\",\"sdf\");\n",
       "\tviewer_150405847205.setStyle({\"model\": 0},{\"line\": {\"colorscheme\": \"default\"}});\n",
       "\tviewer_150405847205.addModel(\"ZINC03814459\\n     RDKit          3D\\n\\n 17 19  0  0  1  0  0  0  0  0999 V2000\\n   -2.7998    2.6535    0.2989 C   0  0  0  0  0  0  0  0  0  0  0  0\\n   -3.7083    1.6401    0.3518 N   0  0  0  0  0  0  0  0  0  0  0  0\\n   -2.9410    0.5573    0.1800 C   0  0  0  0  0  0  0  0  0  0  0  0\\n   -1.6480    0.9070    0.0329 C   0  0  0  0  0  0  0  0  0  0  0  0\\n   -1.5173    2.2380    0.1031 N   0  0  0  0  0  0  0  0  0  0  0  0\\n   -0.6771   -0.0651   -0.1582 C   0  0  0  0  0  0  0  0  0  0  0  0\\n   -1.0875   -1.3703   -0.1895 N   0  0  0  0  0  0  0  0  0  0  0  0\\n   -2.4093   -1.7056   -0.0378 C   0  0  0  0  0  0  0  0  0  0  0  0\\n   -3.3526   -0.7331    0.1497 N   0  0  0  0  0  0  0  0  0  0  0  0\\n   -2.8007   -3.0723   -0.0757 N   0  0  0  0  0  0  0  0  0  0  0  0\\n    0.6647    0.2844   -0.3112 O   0  0  0  0  0  0  0  0  0  0  0  0\\n    1.6766   -0.6933   -0.5060 C   0  0  0  0  0  0  0  0  0  0  0  0\\n    3.0313   -0.0198   -0.6246 C   0  0  0  0  0  0  0  0  0  0  0  0\\n    3.4511    0.5575    0.7084 C   0  0  0  0  0  0  0  0  0  0  0  0\\n    4.9175    0.2580    0.7838 C   0  0  0  0  0  0  0  0  0  0  0  0\\n    5.2061   -0.4782   -0.5034 C   0  0  0  0  0  0  0  0  0  0  0  0\\n    3.9944   -0.9579   -1.0214 O   0  0  0  0  0  0  0  0  0  0  0  0\\n  1  5  2  0\\n  1  2  1  0\\n  2  3  1  0\\n  3  9  1  0\\n  3  4  2  0\\n  4  5  1  0\\n  4  6  1  0\\n  6  7  2  0\\n  6 11  1  0\\n  7  8  1  0\\n  8  9  2  0\\n  8 10  1  0\\n 11 12  1  0\\n 12 13  1  0\\n 13 17  1  0\\n 13 14  1  0\\n 14 15  1  0\\n 15 16  1  0\\n 16 17  1  0\\nM  END\\n\",\"sdf\");\n",
       "\tviewer_150405847205.setStyle({\"model\": 1},{\"line\": {\"colorscheme\": \"greenCarbon\"}});\n",
       "\n",
       "                viewer_150405847205.render();\n",
       "            });\n",
       "            </script>"
      ],
      "text/plain": [
       "<IPython.core.display.HTML object>"
      ]
     },
     "metadata": {},
     "output_type": "display_data"
    },
    {
     "data": {
      "text/html": [
       "<script>\n",
       "            $3Dmolpromise.done(function() { //wrap in promise for non-interactive functionality\n",
       "                \tviewer_150405847205.removeAllLabels();\n",
       "\tviewer_150405847205.removeAllModels();\n",
       "\tviewer_150405847205.removeAllSurfaces();\n",
       "\tviewer_150405847205.setBackgroundColor(\"0x000000\");\n",
       "\tviewer_150405847205.addModel(\"ZINC03814459\\n     RDKit          3D\\n\\n 17 19  0  0  1  0  0  0  0  0999 V2000\\n   -2.7070    2.7548    0.3363 C   0  0  0  0  0  0  0  0  0  0  0  0\\n   -3.5560    1.7162    0.3813 N   0  0  0  0  0  0  0  0  0  0  0  0\\n   -2.9147    0.5643    0.2019 C   0  0  0  0  0  0  0  0  0  0  0  0\\n   -1.5678    0.8778    0.0303 C   0  0  0  0  0  0  0  0  0  0  0  0\\n   -1.4917    2.2193    0.1200 N   0  0  0  0  0  0  0  0  0  0  0  0\\n   -0.6581   -0.1294   -0.1771 C   0  0  0  0  0  0  0  0  0  0  0  0\\n   -1.0881   -1.3934   -0.2098 N   0  0  0  0  0  0  0  0  0  0  0  0\\n   -2.3775   -1.7101   -0.0468 C   0  0  0  0  0  0  0  0  0  0  0  0\\n   -3.2650   -0.7287    0.1555 N   0  0  0  0  0  0  0  0  0  0  0  0\\n   -2.8171   -3.0876   -0.0866 N   0  0  0  0  0  0  0  0  0  0  0  0\\n    0.6789    0.1993   -0.3461 O   0  0  0  0  0  0  0  0  0  0  0  0\\n    1.6425   -0.8163   -0.5620 C   0  0  0  0  0  0  0  0  0  0  0  0\\n    2.9871   -0.0956   -0.7026 C   0  0  0  0  0  0  0  0  0  0  0  0\\n    3.2390    0.5900    0.6206 C   0  0  0  0  0  0  0  0  0  0  0  0\\n    4.7055    0.2935    0.8558 C   0  0  0  0  0  0  0  0  0  0  0  0\\n    5.1642   -0.2797   -0.4709 C   0  0  0  0  0  0  0  0  0  0  0  0\\n    4.0258   -0.9742   -0.9191 O   0  0  0  0  0  0  0  0  0  0  0  0\\n  1  5  2  0\\n  1  2  1  0\\n  2  3  1  0\\n  3  9  1  0\\n  3  4  2  0\\n  4  5  1  0\\n  4  6  1  0\\n  6  7  2  0\\n  6 11  1  0\\n  7  8  1  0\\n  8  9  2  0\\n  8 10  1  0\\n 11 12  1  0\\n 12 13  1  0\\n 13 17  1  0\\n 13 14  1  0\\n 14 15  1  0\\n 15 16  1  0\\n 16 17  1  0\\nM  END\\n\",\"sdf\");\n",
       "\tviewer_150405847205.setStyle({\"model\": 0},{\"line\": {\"colorscheme\": \"whiteCarbon\"}});\n",
       "\tviewer_150405847205.addModel(\"ZINC03814459\\n     RDKit          3D\\n\\n 17 19  0  0  1  0  0  0  0  0999 V2000\\n   -2.7998    2.6535    0.2989 C   0  0  0  0  0  0  0  0  0  0  0  0\\n   -3.7083    1.6401    0.3518 N   0  0  0  0  0  0  0  0  0  0  0  0\\n   -2.9410    0.5573    0.1800 C   0  0  0  0  0  0  0  0  0  0  0  0\\n   -1.6480    0.9070    0.0329 C   0  0  0  0  0  0  0  0  0  0  0  0\\n   -1.5173    2.2380    0.1031 N   0  0  0  0  0  0  0  0  0  0  0  0\\n   -0.6771   -0.0651   -0.1582 C   0  0  0  0  0  0  0  0  0  0  0  0\\n   -1.0875   -1.3703   -0.1895 N   0  0  0  0  0  0  0  0  0  0  0  0\\n   -2.4093   -1.7056   -0.0378 C   0  0  0  0  0  0  0  0  0  0  0  0\\n   -3.3526   -0.7331    0.1497 N   0  0  0  0  0  0  0  0  0  0  0  0\\n   -2.8007   -3.0723   -0.0757 N   0  0  0  0  0  0  0  0  0  0  0  0\\n    0.6647    0.2844   -0.3112 O   0  0  0  0  0  0  0  0  0  0  0  0\\n    1.6766   -0.6933   -0.5060 C   0  0  0  0  0  0  0  0  0  0  0  0\\n    3.0313   -0.0198   -0.6246 C   0  0  0  0  0  0  0  0  0  0  0  0\\n    3.4511    0.5575    0.7084 C   0  0  0  0  0  0  0  0  0  0  0  0\\n    4.9175    0.2580    0.7838 C   0  0  0  0  0  0  0  0  0  0  0  0\\n    5.2061   -0.4782   -0.5034 C   0  0  0  0  0  0  0  0  0  0  0  0\\n    3.9944   -0.9579   -1.0214 O   0  0  0  0  0  0  0  0  0  0  0  0\\n  1  5  2  0\\n  1  2  1  0\\n  2  3  1  0\\n  3  9  1  0\\n  3  4  2  0\\n  4  5  1  0\\n  4  6  1  0\\n  6  7  2  0\\n  6 11  1  0\\n  7  8  1  0\\n  8  9  2  0\\n  8 10  1  0\\n 11 12  1  0\\n 12 13  1  0\\n 13 17  1  0\\n 13 14  1  0\\n 14 15  1  0\\n 15 16  1  0\\n 16 17  1  0\\nM  END\\n\",\"sdf\");\n",
       "\tviewer_150405847205.setStyle({\"model\": 1},{\"line\": {\"colorscheme\": \"greenCarbon\"}});\n",
       "\n",
       "                viewer_150405847205.render();\n",
       "            });\n",
       "            </script>"
      ],
      "text/plain": [
       "<IPython.core.display.HTML object>"
      ]
     },
     "metadata": {},
     "output_type": "display_data"
    }
   ],
   "source": [
    "view = ipy.MolView3D(ligandDict = molDict_3, \n",
    "                     ligSelPanel = 'full',\n",
    "                     ligStyle  = 'line', \n",
    "                     emLigStyle  = 'line', \n",
    "                     stylePanel = 'emlig',\n",
    "                     emPanel = True,\n",
    "                     labelPanel = True,\n",
    "                     keyForParentMol = kpm, \n",
    "                     keyForMinimizedMol = kmm,\n",
    "                     energyDataKey = ke)"
   ]
  },
  {
   "cell_type": "code",
   "execution_count": 17,
   "metadata": {},
   "outputs": [
    {
     "data": {
      "text/html": [
       "<script>\n",
       "            $3Dmolpromise.done(function() { //wrap in promise for non-interactive functionality\n",
       "                \tviewer_150405847205.removeAllLabels();\n",
       "\tviewer_150405847205.removeAllModels();\n",
       "\tviewer_150405847205.removeAllSurfaces();\n",
       "\tviewer_150405847205.setBackgroundColor(\"0x000000\");\n",
       "\tviewer_150405847205.addModel(\"ZINC03814459\\n     RDKit          3D\\n\\n 17 19  0  0  1  0  0  0  0  0999 V2000\\n    2.8460   -2.6856   -0.1248 C   0  0  0  0  0  0  0  0  0  0  0  0\\n    3.6394   -1.6368    0.1569 N   0  0  0  0  0  0  0  0  0  0  0  0\\n    2.9483   -0.4921    0.1897 C   0  0  0  0  0  0  0  0  0  0  0  0\\n    1.6283   -0.8698   -0.0943 C   0  0  0  0  0  0  0  0  0  0  0  0\\n    1.6035   -2.1959   -0.2779 N   0  0  0  0  0  0  0  0  0  0  0  0\\n    0.6356    0.0771   -0.1415 C   0  0  0  0  0  0  0  0  0  0  0  0\\n    0.9408    1.3468    0.0840 N   0  0  0  0  0  0  0  0  0  0  0  0\\n    2.1896    1.7064    0.3530 C   0  0  0  0  0  0  0  0  0  0  0  0\\n    3.1680    0.7966    0.4027 N   0  0  0  0  0  0  0  0  0  0  0  0\\n    2.4695    3.0888    0.5893 N   0  0  0  0  0  0  0  0  0  0  0  0\\n   -0.6577   -0.2950   -0.4200 O   0  0  0  0  0  0  0  0  0  0  0  0\\n   -1.6857    0.6687   -0.4711 C   0  0  0  0  0  0  0  0  0  0  0  0\\n   -3.0146    0.0304   -0.7919 C   0  0  0  0  0  0  0  0  0  0  0  0\\n   -4.0594    1.0896   -0.8264 C   0  0  0  0  0  0  0  0  0  0  0  0\\n   -4.7684    0.8824    0.5170 C   0  0  0  0  0  0  0  0  0  0  0  0\\n   -4.5640   -0.6273    0.6820 C   0  0  0  0  0  0  0  0  0  0  0  0\\n   -3.3192   -0.8844    0.1732 O   0  0  0  0  0  0  0  0  0  0  0  0\\n  1  5  2  0\\n  1  2  1  0\\n  2  3  1  0\\n  3  9  1  0\\n  3  4  2  0\\n  4  5  1  0\\n  4  6  1  0\\n  6  7  2  0\\n  6 11  1  0\\n  7  8  1  0\\n  8  9  2  0\\n  8 10  1  0\\n 11 12  1  0\\n 12 13  1  0\\n 13 17  1  0\\n 13 14  1  0\\n 14 15  1  0\\n 15 16  1  0\\n 16 17  1  0\\nM  END\\n\",\"sdf\");\n",
       "\tviewer_150405847205.setStyle({\"model\": 0},{\"line\": {\"colorscheme\": \"default\"}});\n",
       "\tviewer_150405847205.addModel(\"ZINC03814459\\n     RDKit          3D\\n\\n 17 19  0  0  1  0  0  0  0  0999 V2000\\n    2.7988   -2.6566   -0.1864 C   0  0  0  0  0  0  0  0  0  0  0  0\\n    3.7105   -1.6633    0.0068 N   0  0  0  0  0  0  0  0  0  0  0  0\\n    2.9408   -0.5693    0.0399 C   0  0  0  0  0  0  0  0  0  0  0  0\\n    1.6432   -0.8935   -0.1246 C   0  0  0  0  0  0  0  0  0  0  0  0\\n    1.5119   -2.2181   -0.2723 N   0  0  0  0  0  0  0  0  0  0  0  0\\n    0.6691    0.0940   -0.1228 C   0  0  0  0  0  0  0  0  0  0  0  0\\n    1.0811    1.3875    0.0505 N   0  0  0  0  0  0  0  0  0  0  0  0\\n    2.4075    1.6969    0.2163 C   0  0  0  0  0  0  0  0  0  0  0  0\\n    3.3540    0.7094    0.2118 N   0  0  0  0  0  0  0  0  0  0  0  0\\n    2.8004    3.0520    0.3939 N   0  0  0  0  0  0  0  0  0  0  0  0\\n   -0.6775   -0.2292   -0.2918 O   0  0  0  0  0  0  0  0  0  0  0  0\\n   -1.6922    0.7642   -0.2922 C   0  0  0  0  0  0  0  0  0  0  0  0\\n   -3.0481    0.1128   -0.4845 C   0  0  0  0  0  0  0  0  0  0  0  0\\n   -4.1109    1.1773   -0.6132 C   0  0  0  0  0  0  0  0  0  0  0  0\\n   -5.2687    0.6251    0.1618 C   0  0  0  0  0  0  0  0  0  0  0  0\\n   -4.7604   -0.6980    0.6849 C   0  0  0  0  0  0  0  0  0  0  0  0\\n   -3.3596   -0.6913    0.6219 O   0  0  0  0  0  0  0  0  0  0  0  0\\n  1  5  2  0\\n  1  2  1  0\\n  2  3  1  0\\n  3  9  1  0\\n  3  4  2  0\\n  4  5  1  0\\n  4  6  1  0\\n  6  7  2  0\\n  6 11  1  0\\n  7  8  1  0\\n  8  9  2  0\\n  8 10  1  0\\n 11 12  1  0\\n 12 13  1  0\\n 13 17  1  0\\n 13 14  1  0\\n 14 15  1  0\\n 15 16  1  0\\n 16 17  1  0\\nM  END\\n\",\"sdf\");\n",
       "\tviewer_150405847205.setStyle({\"model\": 1},{\"line\": {\"colorscheme\": \"whiteCarbon\"}});\n",
       "\n",
       "                viewer_150405847205.render();\n",
       "            });\n",
       "            </script>"
      ],
      "text/plain": [
       "<IPython.core.display.HTML object>"
      ]
     },
     "metadata": {},
     "output_type": "display_data"
    }
   ],
   "source": [
    "view.SelectMolAndConf(molAndConfIds = (('1',7),))"
   ]
  },
  {
   "cell_type": "markdown",
   "metadata": {},
   "source": [
    "### Thank you very much for your time. Have a great day! "
   ]
  }
 ],
 "metadata": {
  "kernelspec": {
   "display_name": "Python 2",
   "language": "python",
   "name": "python2"
  },
  "language_info": {
   "codemirror_mode": {
    "name": "ipython",
    "version": 2
   },
   "file_extension": ".py",
   "mimetype": "text/x-python",
   "name": "python",
   "nbconvert_exporter": "python",
   "pygments_lexer": "ipython2",
   "version": "2.7.13"
  }
 },
 "nbformat": 4,
 "nbformat_minor": 2
}
