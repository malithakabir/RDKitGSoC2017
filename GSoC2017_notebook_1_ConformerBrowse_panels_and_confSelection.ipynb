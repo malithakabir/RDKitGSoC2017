{
 "cells": [
  {
   "cell_type": "markdown",
   "metadata": {},
   "source": [
    "### RDKit Conformer Browser\n",
    "Derived from Greg Landrum's code by Malitha Humayun Kabir<br>\n",
    "As a part of GSoC 2017 <br>\n",
    "Project : RDKit - 3Dmol.js integration <br>\n",
    "Mentors: Paul Czodrowski and Greg Landrum <br>\n",
    "Date: 28th August 2017 <br>\n",
    "Acknowledgement: Peter Gedeck reviewed source codes and provided advice on restructuring codes and wrote MolViewState class."
   ]
  },
  {
   "cell_type": "markdown",
   "metadata": {},
   "source": [
    "##### This notebook assumes that  IPythonConsoleIntegration and LigandExtract merged in RDKit code base. "
   ]
  },
  {
   "cell_type": "code",
   "execution_count": 1,
   "metadata": {
    "collapsed": true
   },
   "outputs": [],
   "source": [
    "from rdkit.Chem.Draw import IPythonConsoleIntegration as ipy\n",
    "from rdkit import Chem\n",
    "from rdkit.Chem import AllChem\n",
    "from six.moves import urllib"
   ]
  },
  {
   "cell_type": "markdown",
   "metadata": {},
   "source": [
    "If you we use a new notebook, first task is to load the 3Dmol.js libaray. The following cell deos this"
   ]
  },
  {
   "cell_type": "code",
   "execution_count": 2,
   "metadata": {},
   "outputs": [
    {
     "data": {
      "text/html": [
       "<script href=\"https://raw.githubusercontent.com/3dmol/3Dmol.js/master/release/3Dmol.js\"></script>"
      ],
      "text/plain": [
       "<IPython.core.display.HTML object>"
      ]
     },
     "metadata": {},
     "output_type": "display_data"
    }
   ],
   "source": [
    "%%html\n",
    "<script href=\"https://raw.githubusercontent.com/3dmol/3Dmol.js/master/release/3Dmol.js\"></script>"
   ]
  },
  {
   "cell_type": "markdown",
   "metadata": {},
   "source": [
    "Now we need to have molecules and different conformers of molecule. The following cell creates a list of molecule where each molecule got 10 conformers."
   ]
  },
  {
   "cell_type": "code",
   "execution_count": 3,
   "metadata": {
    "collapsed": true
   },
   "outputs": [],
   "source": [
    "# Codes from Paolo Tosco (Slightly modified version)\n",
    "url = 'https://github.com/rdkit/rdkit/raw/master/Docs/Book/data/cdk2.sdf'\n",
    "response = urllib.request.urlopen(url)\n",
    "data = response.read()\n",
    "suppl = Chem.SDMolSupplier()\n",
    "suppl.SetData(data)\n",
    "molList = [mol for mol in suppl]\n",
    "params = AllChem.ETKDG()\n",
    "params.numThreads=3\n",
    "for m in molList:\n",
    "    AllChem.EmbedMultipleConfs(m,numConfs=10,params=params)\n"
   ]
  },
  {
   "cell_type": "code",
   "execution_count": 4,
   "metadata": {},
   "outputs": [
    {
     "name": "stdout",
     "output_type": "stream",
     "text": [
      "47\n"
     ]
    }
   ],
   "source": [
    "print(len(molList))"
   ]
  },
  {
   "cell_type": "markdown",
   "metadata": {},
   "source": [
    "Great! We now have a list of molecules. But MolView3D doesn't support list object rather it supports the dictionary. As you aleady know that a dictionary must have keys. So, we need to add keys in the molecule list first. For the convenience of demonstration, we will be using only 4 molecules from the list and then will convert the list to dictionary."
   ]
  },
  {
   "cell_type": "code",
   "execution_count": 5,
   "metadata": {
    "collapsed": true
   },
   "outputs": [],
   "source": [
    "molList_2 = molList[:4]"
   ]
  },
  {
   "cell_type": "code",
   "execution_count": 6,
   "metadata": {
    "collapsed": true
   },
   "outputs": [],
   "source": [
    "molList_2_with_expected_keys=[(str(ids),mol) for ids,mol in enumerate(molList_2)]"
   ]
  },
  {
   "cell_type": "code",
   "execution_count": 7,
   "metadata": {},
   "outputs": [
    {
     "data": {
      "text/plain": [
       "[('0', <rdkit.Chem.rdchem.Mol at 0x7febe132e1a0>),\n",
       " ('1', <rdkit.Chem.rdchem.Mol at 0x7febe132e210>),\n",
       " ('2', <rdkit.Chem.rdchem.Mol at 0x7febe132e280>),\n",
       " ('3', <rdkit.Chem.rdchem.Mol at 0x7febe132e2f0>)]"
      ]
     },
     "execution_count": 7,
     "metadata": {},
     "output_type": "execute_result"
    }
   ],
   "source": [
    "molList_2_with_expected_keys"
   ]
  },
  {
   "cell_type": "markdown",
   "metadata": {},
   "source": [
    "Now we can convert this list to dictionary. Please see the following cell."
   ]
  },
  {
   "cell_type": "code",
   "execution_count": 8,
   "metadata": {
    "collapsed": true
   },
   "outputs": [],
   "source": [
    "molDict = dict(molList_2_with_expected_keys)"
   ]
  },
  {
   "cell_type": "code",
   "execution_count": 9,
   "metadata": {},
   "outputs": [
    {
     "data": {
      "text/plain": [
       "{'0': <rdkit.Chem.rdchem.Mol at 0x7febe132e1a0>,\n",
       " '1': <rdkit.Chem.rdchem.Mol at 0x7febe132e210>,\n",
       " '2': <rdkit.Chem.rdchem.Mol at 0x7febe132e280>,\n",
       " '3': <rdkit.Chem.rdchem.Mol at 0x7febe132e2f0>}"
      ]
     },
     "execution_count": 9,
     "metadata": {},
     "output_type": "execute_result"
    }
   ],
   "source": [
    "molDict"
   ]
  },
  {
   "cell_type": "markdown",
   "metadata": {},
   "source": [
    "The keys of the molDict keys will be considered as molecule id (molId). Please note that: MolView3D currently does NOT accept molId other than str type."
   ]
  },
  {
   "cell_type": "code",
   "execution_count": 10,
   "metadata": {},
   "outputs": [
    {
     "name": "stdout",
     "output_type": "stream",
     "text": [
      "molecule keys within dictionary is : <type 'str'>\n",
      "The following are the molecule keys : \n",
      "['1', '0', '3', '2']\n"
     ]
    }
   ],
   "source": [
    "print('molecule keys within dictionary is : ' + str(type(list(molDict.keys())[0])))\n",
    "print('The following are the molecule keys : ')\n",
    "print(list(molDict.keys()))"
   ]
  },
  {
   "cell_type": "code",
   "execution_count": 11,
   "metadata": {
    "collapsed": true
   },
   "outputs": [],
   "source": [
    "moldictForVisualization = ipy.ProcessLigandDict(molDict)"
   ]
  },
  {
   "cell_type": "code",
   "execution_count": 12,
   "metadata": {},
   "outputs": [
    {
     "data": {
      "application/vnd.jupyter.widget-view+json": {
       "model_id": "51f1c45428fd4f3e8be9d73877b977a8"
      }
     },
     "metadata": {},
     "output_type": "display_data"
    },
    {
     "data": {
      "text/html": [
       "<div id=\"3dmolviewer_150400923387\"  style=\"position: relative; width: 435px; height: 485px\">\n",
       "<script>\n",
       "if(typeof $3Dmolpromise === 'undefined') $3Dmolpromise = $.when($.getScript('https://3dmol.csb.pitt.edu/build/3Dmol.js'))\n",
       "var viewer_150400923387 = null;\n",
       "$3Dmolpromise.done(function() {\n",
       "viewer_150400923387 = $3Dmol.createViewer($(\"#3dmolviewer_150400923387\"),{backgroundColor:\"white\"});\n",
       "\tviewer_150400923387.setBackgroundColor(\"0x000000\");\n",
       "\tviewer_150400923387.zoomTo();\n",
       "viewer_150400923387.render();\n",
       "});\n",
       "</script><script>$(\"#150400923383\").append($(\"#3dmolviewer_150400923387\")); </script>"
      ],
      "text/plain": [
       "<IPython.core.display.HTML object>"
      ]
     },
     "metadata": {},
     "output_type": "display_data"
    },
    {
     "data": {
      "text/html": [
       "<script>\n",
       "            $3Dmolpromise.done(function() { //wrap in promise for non-interactive functionality\n",
       "                \tviewer_150400923387.removeAllLabels();\n",
       "\tviewer_150400923387.removeAllModels();\n",
       "\tviewer_150400923387.removeAllSurfaces();\n",
       "\tviewer_150400923387.setBackgroundColor(\"0x000000\");\n",
       "\tviewer_150400923387.addModel(\"ZINC03814459\\n     RDKit          3D\\n\\n 17 19  0  0  1  0  0  0  0  0999 V2000\\n   -2.7070    2.7548    0.3363 C   0  0  0  0  0  0  0  0  0  0  0  0\\n   -3.5560    1.7162    0.3813 N   0  0  0  0  0  0  0  0  0  0  0  0\\n   -2.9147    0.5643    0.2019 C   0  0  0  0  0  0  0  0  0  0  0  0\\n   -1.5678    0.8778    0.0303 C   0  0  0  0  0  0  0  0  0  0  0  0\\n   -1.4917    2.2193    0.1200 N   0  0  0  0  0  0  0  0  0  0  0  0\\n   -0.6581   -0.1294   -0.1771 C   0  0  0  0  0  0  0  0  0  0  0  0\\n   -1.0881   -1.3934   -0.2098 N   0  0  0  0  0  0  0  0  0  0  0  0\\n   -2.3775   -1.7101   -0.0468 C   0  0  0  0  0  0  0  0  0  0  0  0\\n   -3.2650   -0.7287    0.1555 N   0  0  0  0  0  0  0  0  0  0  0  0\\n   -2.8171   -3.0876   -0.0866 N   0  0  0  0  0  0  0  0  0  0  0  0\\n    0.6789    0.1993   -0.3461 O   0  0  0  0  0  0  0  0  0  0  0  0\\n    1.6425   -0.8163   -0.5620 C   0  0  0  0  0  0  0  0  0  0  0  0\\n    2.9871   -0.0956   -0.7026 C   0  0  0  0  0  0  0  0  0  0  0  0\\n    3.2390    0.5900    0.6206 C   0  0  0  0  0  0  0  0  0  0  0  0\\n    4.7055    0.2935    0.8558 C   0  0  0  0  0  0  0  0  0  0  0  0\\n    5.1642   -0.2797   -0.4709 C   0  0  0  0  0  0  0  0  0  0  0  0\\n    4.0258   -0.9742   -0.9191 O   0  0  0  0  0  0  0  0  0  0  0  0\\n  1  5  2  0\\n  1  2  1  0\\n  2  3  1  0\\n  3  9  1  0\\n  3  4  2  0\\n  4  5  1  0\\n  4  6  1  0\\n  6  7  2  0\\n  6 11  1  0\\n  7  8  1  0\\n  8  9  2  0\\n  8 10  1  0\\n 11 12  1  0\\n 12 13  1  0\\n 13 17  1  0\\n 13 14  1  0\\n 14 15  1  0\\n 15 16  1  0\\n 16 17  1  0\\nM  END\\n\",\"sdf\");\n",
       "\tviewer_150400923387.setStyle({\"model\": 0},{\"line\": {\"colorscheme\": \"default\"}});\n",
       "\tviewer_150400923387.zoomTo();\n",
       "\n",
       "                viewer_150400923387.render();\n",
       "            });\n",
       "            </script>"
      ],
      "text/plain": [
       "<IPython.core.display.HTML object>"
      ]
     },
     "metadata": {},
     "output_type": "display_data"
    },
    {
     "data": {
      "text/html": [
       "<script>\n",
       "            $3Dmolpromise.done(function() { //wrap in promise for non-interactive functionality\n",
       "                \tviewer_150400923387.removeAllLabels();\n",
       "\tviewer_150400923387.removeAllModels();\n",
       "\tviewer_150400923387.removeAllSurfaces();\n",
       "\tviewer_150400923387.setBackgroundColor(\"0x000000\");\n",
       "\tviewer_150400923387.addModel(\"ZINC03814459\\n     RDKit          3D\\n\\n 17 19  0  0  1  0  0  0  0  0999 V2000\\n   -2.7070    2.7548    0.3363 C   0  0  0  0  0  0  0  0  0  0  0  0\\n   -3.5560    1.7162    0.3813 N   0  0  0  0  0  0  0  0  0  0  0  0\\n   -2.9147    0.5643    0.2019 C   0  0  0  0  0  0  0  0  0  0  0  0\\n   -1.5678    0.8778    0.0303 C   0  0  0  0  0  0  0  0  0  0  0  0\\n   -1.4917    2.2193    0.1200 N   0  0  0  0  0  0  0  0  0  0  0  0\\n   -0.6581   -0.1294   -0.1771 C   0  0  0  0  0  0  0  0  0  0  0  0\\n   -1.0881   -1.3934   -0.2098 N   0  0  0  0  0  0  0  0  0  0  0  0\\n   -2.3775   -1.7101   -0.0468 C   0  0  0  0  0  0  0  0  0  0  0  0\\n   -3.2650   -0.7287    0.1555 N   0  0  0  0  0  0  0  0  0  0  0  0\\n   -2.8171   -3.0876   -0.0866 N   0  0  0  0  0  0  0  0  0  0  0  0\\n    0.6789    0.1993   -0.3461 O   0  0  0  0  0  0  0  0  0  0  0  0\\n    1.6425   -0.8163   -0.5620 C   0  0  0  0  0  0  0  0  0  0  0  0\\n    2.9871   -0.0956   -0.7026 C   0  0  0  0  0  0  0  0  0  0  0  0\\n    3.2390    0.5900    0.6206 C   0  0  0  0  0  0  0  0  0  0  0  0\\n    4.7055    0.2935    0.8558 C   0  0  0  0  0  0  0  0  0  0  0  0\\n    5.1642   -0.2797   -0.4709 C   0  0  0  0  0  0  0  0  0  0  0  0\\n    4.0258   -0.9742   -0.9191 O   0  0  0  0  0  0  0  0  0  0  0  0\\n  1  5  2  0\\n  1  2  1  0\\n  2  3  1  0\\n  3  9  1  0\\n  3  4  2  0\\n  4  5  1  0\\n  4  6  1  0\\n  6  7  2  0\\n  6 11  1  0\\n  7  8  1  0\\n  8  9  2  0\\n  8 10  1  0\\n 11 12  1  0\\n 12 13  1  0\\n 13 17  1  0\\n 13 14  1  0\\n 14 15  1  0\\n 15 16  1  0\\n 16 17  1  0\\nM  END\\n\",\"sdf\");\n",
       "\tviewer_150400923387.setStyle({\"model\": 0},{\"line\": {\"colorscheme\": \"default\"}});\n",
       "\n",
       "                viewer_150400923387.render();\n",
       "            });\n",
       "            </script>"
      ],
      "text/plain": [
       "<IPython.core.display.HTML object>"
      ]
     },
     "metadata": {},
     "output_type": "display_data"
    }
   ],
   "source": [
    "view = ipy.MolView3D(ligandDict = moldictForVisualization, \n",
    "                     ligSelPanel = 'minimal', \n",
    "                     ligStyle = 'line')"
   ]
  },
  {
   "cell_type": "markdown",
   "metadata": {},
   "source": [
    "If you want to retrieve the Ids or selected molecule and conformers then run the following codes."
   ]
  },
  {
   "cell_type": "code",
   "execution_count": 13,
   "metadata": {},
   "outputs": [
    {
     "data": {
      "text/plain": [
       "(('1', 0),)"
      ]
     },
     "execution_count": 13,
     "metadata": {},
     "output_type": "execute_result"
    }
   ],
   "source": [
    "view.molViewState.idPaired"
   ]
  },
  {
   "cell_type": "markdown",
   "metadata": {},
   "source": [
    "The retuned value of view.molViewState.idPaired is either list containing tuple. The tuple inside the list is paired value where the first value is molecule id (the keys of unprocessed dictionary) and the second value is the conformer id of the selected molecule. You can use this syntax to select conformers using python codes. But in this case only tuple conatining tuple is acceptable. "
   ]
  },
  {
   "cell_type": "code",
   "execution_count": 14,
   "metadata": {},
   "outputs": [
    {
     "data": {
      "text/html": [
       "<script>\n",
       "            $3Dmolpromise.done(function() { //wrap in promise for non-interactive functionality\n",
       "                \tviewer_150400923387.removeAllLabels();\n",
       "\tviewer_150400923387.removeAllModels();\n",
       "\tviewer_150400923387.removeAllSurfaces();\n",
       "\tviewer_150400923387.setBackgroundColor(\"0x000000\");\n",
       "\tviewer_150400923387.addModel(\"ZINC03814457\\n     RDKit          3D\\n\\n 17 18  0  0  1  0  0  0  0  0999 V2000\\n    4.5305    1.0739    0.9068 C   0  0  0  0  0  0  0  0  0  0  0  0\\n    4.2862    0.0955   -0.1983 C   0  0  0  0  0  0  0  0  0  0  0  0\\n    5.4003   -0.8871   -0.3979 C   0  0  0  0  0  0  0  0  0  0  0  0\\n    2.9550   -0.5285   -0.0819 C   0  0  0  0  0  0  0  0  0  0  0  0\\n    2.8505   -1.7240    0.0419 O   0  0  0  0  0  0  0  0  0  0  0  0\\n    1.7460    0.3166   -0.1175 C   0  0  0  0  0  0  0  0  0  0  0  0\\n    0.5979   -0.4917    0.0099 O   0  0  0  0  0  0  0  0  0  0  0  0\\n   -0.6460    0.1055    0.0005 C   0  0  0  0  0  0  0  0  0  0  0  0\\n   -1.7806   -0.6770    0.1248 C   0  0  0  0  0  0  0  0  0  0  0  0\\n   -3.0199   -0.0954    0.1168 C   0  0  0  0  0  0  0  0  0  0  0  0\\n   -3.9285   -1.0601    0.2501 N   0  0  0  0  0  0  0  0  0  0  0  0\\n   -3.2767   -2.2250    0.3402 C   0  0  0  0  0  0  0  0  0  0  0  0\\n   -1.9571   -1.9987    0.2641 N   0  0  0  0  0  0  0  0  0  0  0  0\\n   -3.0662    1.2557   -0.0164 N   0  0  0  0  0  0  0  0  0  0  0  0\\n   -1.9517    1.9876   -0.1348 C   0  0  0  0  0  0  0  0  0  0  0  0\\n   -0.7415    1.4365   -0.1287 N   0  0  0  0  0  0  0  0  0  0  0  0\\n   -1.9983    3.4162   -0.2758 N   0  0  0  0  0  0  0  0  0  0  0  0\\n  1  2  1  0\\n  2  3  1  0\\n  2  4  1  0\\n  4  5  2  0\\n  4  6  1  0\\n  6  7  1  0\\n  7  8  1  0\\n  8 16  2  0\\n  8  9  1  0\\n  9 13  1  0\\n  9 10  2  0\\n 10 11  1  0\\n 10 14  1  0\\n 11 12  1  0\\n 12 13  2  0\\n 14 15  2  0\\n 15 16  1  0\\n 15 17  1  0\\nM  END\\n\",\"sdf\");\n",
       "\tviewer_150400923387.setStyle({\"model\": 0},{\"line\": {\"colorscheme\": \"default\"}});\n",
       "\n",
       "                viewer_150400923387.render();\n",
       "            });\n",
       "            </script>"
      ],
      "text/plain": [
       "<IPython.core.display.HTML object>"
      ]
     },
     "metadata": {},
     "output_type": "display_data"
    }
   ],
   "source": [
    "view.SelectMolAndConf(molAndConfIds = (('0',0),))"
   ]
  },
  {
   "cell_type": "markdown",
   "metadata": {},
   "source": [
    "You can also select multiple conformer by using the conformer selection syntax."
   ]
  },
  {
   "cell_type": "code",
   "execution_count": 15,
   "metadata": {},
   "outputs": [
    {
     "data": {
      "text/html": [
       "<script>\n",
       "            $3Dmolpromise.done(function() { //wrap in promise for non-interactive functionality\n",
       "                \tviewer_150400923387.removeAllLabels();\n",
       "\tviewer_150400923387.removeAllModels();\n",
       "\tviewer_150400923387.removeAllSurfaces();\n",
       "\tviewer_150400923387.setBackgroundColor(\"0x000000\");\n",
       "\tviewer_150400923387.addModel(\"ZINC00023543\\n     RDKit          3D\\n\\n 18 20  0  0  1  0  0  0  0  0999 V2000\\n   -3.4677   -2.2403   -0.9292 C   0  0  0  0  0  0  0  0  0  0  0  0\\n   -4.0294   -1.0184   -0.8894 N   0  0  0  0  0  0  0  0  0  0  0  0\\n   -3.0767   -0.2079   -0.3877 C   0  0  0  0  0  0  0  0  0  0  0  0\\n   -1.9447   -0.9594   -0.1301 C   0  0  0  0  0  0  0  0  0  0  0  0\\n   -2.2160   -2.2233   -0.4768 N   0  0  0  0  0  0  0  0  0  0  0  0\\n   -0.7863   -0.4253    0.3909 C   0  0  0  0  0  0  0  0  0  0  0  0\\n   -0.7857    0.8951    0.6517 N   0  0  0  0  0  0  0  0  0  0  0  0\\n   -1.8862    1.6458    0.4052 C   0  0  0  0  0  0  0  0  0  0  0  0\\n   -3.0113    1.1119   -0.1038 N   0  0  0  0  0  0  0  0  0  0  0  0\\n   -1.8955    3.0569    0.6804 N   0  0  0  0  0  0  0  0  0  0  0  0\\n    0.3409   -1.2086    0.6406 O   0  0  0  0  0  0  0  0  0  0  0  0\\n    1.5299   -0.7176    1.1639 C   0  0  0  0  0  0  0  0  0  0  0  0\\n    2.1623    0.3511    0.2989 C   0  0  0  0  0  0  0  0  0  0  0  0\\n    2.4799   -0.1661   -1.0622 C   0  0  0  0  0  0  0  0  0  0  0  0\\n    3.7277    0.4713   -1.6362 C   0  0  0  0  0  0  0  0  0  0  0  0\\n    4.9235    0.2069   -0.7616 C   0  0  0  0  0  0  0  0  0  0  0  0\\n    4.6351    0.3872    0.7055 C   0  0  0  0  0  0  0  0  0  0  0  0\\n    3.3002    1.0406    0.9661 C   0  0  0  0  0  0  0  0  0  0  0  0\\n  1  5  2  0\\n  1  2  1  0\\n  2  3  1  0\\n  3  9  1  0\\n  3  4  2  0\\n  4  5  1  0\\n  4  6  1  0\\n  6  7  2  0\\n  6 11  1  0\\n  7  8  1  0\\n  8  9  2  0\\n  8 10  1  0\\n 11 12  1  0\\n 12 13  1  0\\n 13 18  1  0\\n 13 14  1  0\\n 14 15  1  0\\n 15 16  1  0\\n 16 17  1  0\\n 17 18  1  0\\nM  END\\n\",\"sdf\");\n",
       "\tviewer_150400923387.setStyle({\"model\": 0},{\"line\": {\"colorscheme\": \"default\"}});\n",
       "\tviewer_150400923387.addModel(\"ZINC03814459\\n     RDKit          3D\\n\\n 17 19  0  0  1  0  0  0  0  0999 V2000\\n   -2.7070    2.7548    0.3363 C   0  0  0  0  0  0  0  0  0  0  0  0\\n   -3.5560    1.7162    0.3813 N   0  0  0  0  0  0  0  0  0  0  0  0\\n   -2.9147    0.5643    0.2019 C   0  0  0  0  0  0  0  0  0  0  0  0\\n   -1.5678    0.8778    0.0303 C   0  0  0  0  0  0  0  0  0  0  0  0\\n   -1.4917    2.2193    0.1200 N   0  0  0  0  0  0  0  0  0  0  0  0\\n   -0.6581   -0.1294   -0.1771 C   0  0  0  0  0  0  0  0  0  0  0  0\\n   -1.0881   -1.3934   -0.2098 N   0  0  0  0  0  0  0  0  0  0  0  0\\n   -2.3775   -1.7101   -0.0468 C   0  0  0  0  0  0  0  0  0  0  0  0\\n   -3.2650   -0.7287    0.1555 N   0  0  0  0  0  0  0  0  0  0  0  0\\n   -2.8171   -3.0876   -0.0866 N   0  0  0  0  0  0  0  0  0  0  0  0\\n    0.6789    0.1993   -0.3461 O   0  0  0  0  0  0  0  0  0  0  0  0\\n    1.6425   -0.8163   -0.5620 C   0  0  0  0  0  0  0  0  0  0  0  0\\n    2.9871   -0.0956   -0.7026 C   0  0  0  0  0  0  0  0  0  0  0  0\\n    3.2390    0.5900    0.6206 C   0  0  0  0  0  0  0  0  0  0  0  0\\n    4.7055    0.2935    0.8558 C   0  0  0  0  0  0  0  0  0  0  0  0\\n    5.1642   -0.2797   -0.4709 C   0  0  0  0  0  0  0  0  0  0  0  0\\n    4.0258   -0.9742   -0.9191 O   0  0  0  0  0  0  0  0  0  0  0  0\\n  1  5  2  0\\n  1  2  1  0\\n  2  3  1  0\\n  3  9  1  0\\n  3  4  2  0\\n  4  5  1  0\\n  4  6  1  0\\n  6  7  2  0\\n  6 11  1  0\\n  7  8  1  0\\n  8  9  2  0\\n  8 10  1  0\\n 11 12  1  0\\n 12 13  1  0\\n 13 17  1  0\\n 13 14  1  0\\n 14 15  1  0\\n 15 16  1  0\\n 16 17  1  0\\nM  END\\n\",\"sdf\");\n",
       "\tviewer_150400923387.setStyle({\"model\": 1},{\"line\": {\"colorscheme\": \"default\"}});\n",
       "\n",
       "                viewer_150400923387.render();\n",
       "            });\n",
       "            </script>"
      ],
      "text/plain": [
       "<IPython.core.display.HTML object>"
      ]
     },
     "metadata": {},
     "output_type": "display_data"
    }
   ],
   "source": [
    "view.SelectMolAndConf(molAndConfIds = (('3',7),('1',0),))"
   ]
  },
  {
   "cell_type": "markdown",
   "metadata": {},
   "source": [
    "As you may notice that the molecule containing SD file contained few properties for  each molecule. You can view those by enabling the propertyPanel. "
   ]
  },
  {
   "cell_type": "code",
   "execution_count": 16,
   "metadata": {},
   "outputs": [
    {
     "data": {
      "application/vnd.jupyter.widget-view+json": {
       "model_id": "48bb24cdcd014355afe3ae97cf511c7e"
      }
     },
     "metadata": {},
     "output_type": "display_data"
    },
    {
     "data": {
      "text/html": [
       "<div id=\"3dmolviewer_150400926319\"  style=\"position: relative; width: 435px; height: 485px\">\n",
       "<script>\n",
       "if(typeof $3Dmolpromise === 'undefined') $3Dmolpromise = $.when($.getScript('https://3dmol.csb.pitt.edu/build/3Dmol.js'))\n",
       "var viewer_150400926319 = null;\n",
       "$3Dmolpromise.done(function() {\n",
       "viewer_150400926319 = $3Dmol.createViewer($(\"#3dmolviewer_150400926319\"),{backgroundColor:\"white\"});\n",
       "\tviewer_150400926319.setBackgroundColor(\"0x000000\");\n",
       "\tviewer_150400926319.zoomTo();\n",
       "viewer_150400926319.render();\n",
       "});\n",
       "</script><script>$(\"#150400926316\").append($(\"#3dmolviewer_150400926319\")); </script>"
      ],
      "text/plain": [
       "<IPython.core.display.HTML object>"
      ]
     },
     "metadata": {},
     "output_type": "display_data"
    },
    {
     "data": {
      "text/html": [
       "<script>\n",
       "            $3Dmolpromise.done(function() { //wrap in promise for non-interactive functionality\n",
       "                \tviewer_150400926319.removeAllLabels();\n",
       "\tviewer_150400926319.removeAllModels();\n",
       "\tviewer_150400926319.removeAllSurfaces();\n",
       "\tviewer_150400926319.setBackgroundColor(\"0x000000\");\n",
       "\tviewer_150400926319.addModel(\"ZINC03814459\\n     RDKit          3D\\n\\n 17 19  0  0  1  0  0  0  0  0999 V2000\\n   -2.7070    2.7548    0.3363 C   0  0  0  0  0  0  0  0  0  0  0  0\\n   -3.5560    1.7162    0.3813 N   0  0  0  0  0  0  0  0  0  0  0  0\\n   -2.9147    0.5643    0.2019 C   0  0  0  0  0  0  0  0  0  0  0  0\\n   -1.5678    0.8778    0.0303 C   0  0  0  0  0  0  0  0  0  0  0  0\\n   -1.4917    2.2193    0.1200 N   0  0  0  0  0  0  0  0  0  0  0  0\\n   -0.6581   -0.1294   -0.1771 C   0  0  0  0  0  0  0  0  0  0  0  0\\n   -1.0881   -1.3934   -0.2098 N   0  0  0  0  0  0  0  0  0  0  0  0\\n   -2.3775   -1.7101   -0.0468 C   0  0  0  0  0  0  0  0  0  0  0  0\\n   -3.2650   -0.7287    0.1555 N   0  0  0  0  0  0  0  0  0  0  0  0\\n   -2.8171   -3.0876   -0.0866 N   0  0  0  0  0  0  0  0  0  0  0  0\\n    0.6789    0.1993   -0.3461 O   0  0  0  0  0  0  0  0  0  0  0  0\\n    1.6425   -0.8163   -0.5620 C   0  0  0  0  0  0  0  0  0  0  0  0\\n    2.9871   -0.0956   -0.7026 C   0  0  0  0  0  0  0  0  0  0  0  0\\n    3.2390    0.5900    0.6206 C   0  0  0  0  0  0  0  0  0  0  0  0\\n    4.7055    0.2935    0.8558 C   0  0  0  0  0  0  0  0  0  0  0  0\\n    5.1642   -0.2797   -0.4709 C   0  0  0  0  0  0  0  0  0  0  0  0\\n    4.0258   -0.9742   -0.9191 O   0  0  0  0  0  0  0  0  0  0  0  0\\n  1  5  2  0\\n  1  2  1  0\\n  2  3  1  0\\n  3  9  1  0\\n  3  4  2  0\\n  4  5  1  0\\n  4  6  1  0\\n  6  7  2  0\\n  6 11  1  0\\n  7  8  1  0\\n  8  9  2  0\\n  8 10  1  0\\n 11 12  1  0\\n 12 13  1  0\\n 13 17  1  0\\n 13 14  1  0\\n 14 15  1  0\\n 15 16  1  0\\n 16 17  1  0\\nM  END\\n\",\"sdf\");\n",
       "\tviewer_150400926319.setStyle({\"model\": 0},{\"line\": {\"colorscheme\": \"default\"}});\n",
       "\tviewer_150400926319.zoomTo();\n",
       "\tviewer_150400926319.removeAllLabels();\n",
       "\tviewer_150400926319.removeAllModels();\n",
       "\tviewer_150400926319.removeAllSurfaces();\n",
       "\tviewer_150400926319.setBackgroundColor(\"0x000000\");\n",
       "\tviewer_150400926319.addModel(\"ZINC03814459\\n     RDKit          3D\\n\\n 17 19  0  0  1  0  0  0  0  0999 V2000\\n   -2.7070    2.7548    0.3363 C   0  0  0  0  0  0  0  0  0  0  0  0\\n   -3.5560    1.7162    0.3813 N   0  0  0  0  0  0  0  0  0  0  0  0\\n   -2.9147    0.5643    0.2019 C   0  0  0  0  0  0  0  0  0  0  0  0\\n   -1.5678    0.8778    0.0303 C   0  0  0  0  0  0  0  0  0  0  0  0\\n   -1.4917    2.2193    0.1200 N   0  0  0  0  0  0  0  0  0  0  0  0\\n   -0.6581   -0.1294   -0.1771 C   0  0  0  0  0  0  0  0  0  0  0  0\\n   -1.0881   -1.3934   -0.2098 N   0  0  0  0  0  0  0  0  0  0  0  0\\n   -2.3775   -1.7101   -0.0468 C   0  0  0  0  0  0  0  0  0  0  0  0\\n   -3.2650   -0.7287    0.1555 N   0  0  0  0  0  0  0  0  0  0  0  0\\n   -2.8171   -3.0876   -0.0866 N   0  0  0  0  0  0  0  0  0  0  0  0\\n    0.6789    0.1993   -0.3461 O   0  0  0  0  0  0  0  0  0  0  0  0\\n    1.6425   -0.8163   -0.5620 C   0  0  0  0  0  0  0  0  0  0  0  0\\n    2.9871   -0.0956   -0.7026 C   0  0  0  0  0  0  0  0  0  0  0  0\\n    3.2390    0.5900    0.6206 C   0  0  0  0  0  0  0  0  0  0  0  0\\n    4.7055    0.2935    0.8558 C   0  0  0  0  0  0  0  0  0  0  0  0\\n    5.1642   -0.2797   -0.4709 C   0  0  0  0  0  0  0  0  0  0  0  0\\n    4.0258   -0.9742   -0.9191 O   0  0  0  0  0  0  0  0  0  0  0  0\\n  1  5  2  0\\n  1  2  1  0\\n  2  3  1  0\\n  3  9  1  0\\n  3  4  2  0\\n  4  5  1  0\\n  4  6  1  0\\n  6  7  2  0\\n  6 11  1  0\\n  7  8  1  0\\n  8  9  2  0\\n  8 10  1  0\\n 11 12  1  0\\n 12 13  1  0\\n 13 17  1  0\\n 13 14  1  0\\n 14 15  1  0\\n 15 16  1  0\\n 16 17  1  0\\nM  END\\n\",\"sdf\");\n",
       "\tviewer_150400926319.setStyle({\"model\": 0},{\"line\": {\"colorscheme\": \"default\"}});\n",
       "\n",
       "                viewer_150400926319.render();\n",
       "            });\n",
       "            </script>"
      ],
      "text/plain": [
       "<IPython.core.display.HTML object>"
      ]
     },
     "metadata": {},
     "output_type": "display_data"
    },
    {
     "data": {
      "text/html": [
       "<script>\n",
       "            $3Dmolpromise.done(function() { //wrap in promise for non-interactive functionality\n",
       "                \n",
       "                viewer_150400926319.render();\n",
       "            });\n",
       "            </script>"
      ],
      "text/plain": [
       "<IPython.core.display.HTML object>"
      ]
     },
     "metadata": {},
     "output_type": "display_data"
    },
    {
     "data": {
      "text/html": [
       "<script>\n",
       "            $3Dmolpromise.done(function() { //wrap in promise for non-interactive functionality\n",
       "                \tviewer_150400926319.removeAllLabels();\n",
       "\tviewer_150400926319.removeAllModels();\n",
       "\tviewer_150400926319.removeAllSurfaces();\n",
       "\tviewer_150400926319.setBackgroundColor(\"0x000000\");\n",
       "\tviewer_150400926319.addModel(\"ZINC03814459\\n     RDKit          3D\\n\\n 17 19  0  0  1  0  0  0  0  0999 V2000\\n   -2.7070    2.7548    0.3363 C   0  0  0  0  0  0  0  0  0  0  0  0\\n   -3.5560    1.7162    0.3813 N   0  0  0  0  0  0  0  0  0  0  0  0\\n   -2.9147    0.5643    0.2019 C   0  0  0  0  0  0  0  0  0  0  0  0\\n   -1.5678    0.8778    0.0303 C   0  0  0  0  0  0  0  0  0  0  0  0\\n   -1.4917    2.2193    0.1200 N   0  0  0  0  0  0  0  0  0  0  0  0\\n   -0.6581   -0.1294   -0.1771 C   0  0  0  0  0  0  0  0  0  0  0  0\\n   -1.0881   -1.3934   -0.2098 N   0  0  0  0  0  0  0  0  0  0  0  0\\n   -2.3775   -1.7101   -0.0468 C   0  0  0  0  0  0  0  0  0  0  0  0\\n   -3.2650   -0.7287    0.1555 N   0  0  0  0  0  0  0  0  0  0  0  0\\n   -2.8171   -3.0876   -0.0866 N   0  0  0  0  0  0  0  0  0  0  0  0\\n    0.6789    0.1993   -0.3461 O   0  0  0  0  0  0  0  0  0  0  0  0\\n    1.6425   -0.8163   -0.5620 C   0  0  0  0  0  0  0  0  0  0  0  0\\n    2.9871   -0.0956   -0.7026 C   0  0  0  0  0  0  0  0  0  0  0  0\\n    3.2390    0.5900    0.6206 C   0  0  0  0  0  0  0  0  0  0  0  0\\n    4.7055    0.2935    0.8558 C   0  0  0  0  0  0  0  0  0  0  0  0\\n    5.1642   -0.2797   -0.4709 C   0  0  0  0  0  0  0  0  0  0  0  0\\n    4.0258   -0.9742   -0.9191 O   0  0  0  0  0  0  0  0  0  0  0  0\\n  1  5  2  0\\n  1  2  1  0\\n  2  3  1  0\\n  3  9  1  0\\n  3  4  2  0\\n  4  5  1  0\\n  4  6  1  0\\n  6  7  2  0\\n  6 11  1  0\\n  7  8  1  0\\n  8  9  2  0\\n  8 10  1  0\\n 11 12  1  0\\n 12 13  1  0\\n 13 17  1  0\\n 13 14  1  0\\n 14 15  1  0\\n 15 16  1  0\\n 16 17  1  0\\nM  END\\n\",\"sdf\");\n",
       "\tviewer_150400926319.setStyle({\"model\": 0},{\"line\": {\"colorscheme\": \"default\"}});\n",
       "\n",
       "                viewer_150400926319.render();\n",
       "            });\n",
       "            </script>"
      ],
      "text/plain": [
       "<IPython.core.display.HTML object>"
      ]
     },
     "metadata": {},
     "output_type": "display_data"
    }
   ],
   "source": [
    "view_2 = ipy.MolView3D(ligandDict = moldictForVisualization, \n",
    "                     ligSelPanel = 'minimal', \n",
    "                     ligStyle = 'line',\n",
    "                     propertyPanel = True)"
   ]
  },
  {
   "cell_type": "markdown",
   "metadata": {},
   "source": [
    "Please not that propertyPanel will not work in case of multiple molecule selection."
   ]
  },
  {
   "cell_type": "markdown",
   "metadata": {},
   "source": [
    "You can see the conformer label and atom label in the molecule viewer too by parsing another argument labelPanel = True. Please note that this panel will only work for single conformer."
   ]
  },
  {
   "cell_type": "code",
   "execution_count": 17,
   "metadata": {},
   "outputs": [
    {
     "data": {
      "application/vnd.jupyter.widget-view+json": {
       "model_id": "e3a0ac63cb5942ef935a8403d836c8d7"
      }
     },
     "metadata": {},
     "output_type": "display_data"
    },
    {
     "data": {
      "text/html": [
       "<div id=\"3dmolviewer_150400926729\"  style=\"position: relative; width: 435px; height: 485px\">\n",
       "<script>\n",
       "if(typeof $3Dmolpromise === 'undefined') $3Dmolpromise = $.when($.getScript('https://3dmol.csb.pitt.edu/build/3Dmol.js'))\n",
       "var viewer_150400926729 = null;\n",
       "$3Dmolpromise.done(function() {\n",
       "viewer_150400926729 = $3Dmol.createViewer($(\"#3dmolviewer_150400926729\"),{backgroundColor:\"white\"});\n",
       "\tviewer_150400926729.setBackgroundColor(\"0x000000\");\n",
       "\tviewer_150400926729.zoomTo();\n",
       "viewer_150400926729.render();\n",
       "});\n",
       "</script><script>$(\"#150400926726\").append($(\"#3dmolviewer_150400926729\")); </script>"
      ],
      "text/plain": [
       "<IPython.core.display.HTML object>"
      ]
     },
     "metadata": {},
     "output_type": "display_data"
    },
    {
     "data": {
      "text/html": [
       "<script>\n",
       "            $3Dmolpromise.done(function() { //wrap in promise for non-interactive functionality\n",
       "                \tviewer_150400926729.removeAllLabels();\n",
       "\tviewer_150400926729.removeAllModels();\n",
       "\tviewer_150400926729.removeAllSurfaces();\n",
       "\tviewer_150400926729.setBackgroundColor(\"0x000000\");\n",
       "\tviewer_150400926729.addModel(\"ZINC03814459\\n     RDKit          3D\\n\\n 17 19  0  0  1  0  0  0  0  0999 V2000\\n   -2.7070    2.7548    0.3363 C   0  0  0  0  0  0  0  0  0  0  0  0\\n   -3.5560    1.7162    0.3813 N   0  0  0  0  0  0  0  0  0  0  0  0\\n   -2.9147    0.5643    0.2019 C   0  0  0  0  0  0  0  0  0  0  0  0\\n   -1.5678    0.8778    0.0303 C   0  0  0  0  0  0  0  0  0  0  0  0\\n   -1.4917    2.2193    0.1200 N   0  0  0  0  0  0  0  0  0  0  0  0\\n   -0.6581   -0.1294   -0.1771 C   0  0  0  0  0  0  0  0  0  0  0  0\\n   -1.0881   -1.3934   -0.2098 N   0  0  0  0  0  0  0  0  0  0  0  0\\n   -2.3775   -1.7101   -0.0468 C   0  0  0  0  0  0  0  0  0  0  0  0\\n   -3.2650   -0.7287    0.1555 N   0  0  0  0  0  0  0  0  0  0  0  0\\n   -2.8171   -3.0876   -0.0866 N   0  0  0  0  0  0  0  0  0  0  0  0\\n    0.6789    0.1993   -0.3461 O   0  0  0  0  0  0  0  0  0  0  0  0\\n    1.6425   -0.8163   -0.5620 C   0  0  0  0  0  0  0  0  0  0  0  0\\n    2.9871   -0.0956   -0.7026 C   0  0  0  0  0  0  0  0  0  0  0  0\\n    3.2390    0.5900    0.6206 C   0  0  0  0  0  0  0  0  0  0  0  0\\n    4.7055    0.2935    0.8558 C   0  0  0  0  0  0  0  0  0  0  0  0\\n    5.1642   -0.2797   -0.4709 C   0  0  0  0  0  0  0  0  0  0  0  0\\n    4.0258   -0.9742   -0.9191 O   0  0  0  0  0  0  0  0  0  0  0  0\\n  1  5  2  0\\n  1  2  1  0\\n  2  3  1  0\\n  3  9  1  0\\n  3  4  2  0\\n  4  5  1  0\\n  4  6  1  0\\n  6  7  2  0\\n  6 11  1  0\\n  7  8  1  0\\n  8  9  2  0\\n  8 10  1  0\\n 11 12  1  0\\n 12 13  1  0\\n 13 17  1  0\\n 13 14  1  0\\n 14 15  1  0\\n 15 16  1  0\\n 16 17  1  0\\nM  END\\n\",\"sdf\");\n",
       "\tviewer_150400926729.setStyle({\"model\": 0},{\"line\": {\"colorscheme\": \"default\"}});\n",
       "\tviewer_150400926729.zoomTo();\n",
       "\tviewer_150400926729.removeAllLabels();\n",
       "\tviewer_150400926729.removeAllModels();\n",
       "\tviewer_150400926729.removeAllSurfaces();\n",
       "\tviewer_150400926729.setBackgroundColor(\"0x000000\");\n",
       "\tviewer_150400926729.addModel(\"ZINC03814459\\n     RDKit          3D\\n\\n 17 19  0  0  1  0  0  0  0  0999 V2000\\n   -2.7070    2.7548    0.3363 C   0  0  0  0  0  0  0  0  0  0  0  0\\n   -3.5560    1.7162    0.3813 N   0  0  0  0  0  0  0  0  0  0  0  0\\n   -2.9147    0.5643    0.2019 C   0  0  0  0  0  0  0  0  0  0  0  0\\n   -1.5678    0.8778    0.0303 C   0  0  0  0  0  0  0  0  0  0  0  0\\n   -1.4917    2.2193    0.1200 N   0  0  0  0  0  0  0  0  0  0  0  0\\n   -0.6581   -0.1294   -0.1771 C   0  0  0  0  0  0  0  0  0  0  0  0\\n   -1.0881   -1.3934   -0.2098 N   0  0  0  0  0  0  0  0  0  0  0  0\\n   -2.3775   -1.7101   -0.0468 C   0  0  0  0  0  0  0  0  0  0  0  0\\n   -3.2650   -0.7287    0.1555 N   0  0  0  0  0  0  0  0  0  0  0  0\\n   -2.8171   -3.0876   -0.0866 N   0  0  0  0  0  0  0  0  0  0  0  0\\n    0.6789    0.1993   -0.3461 O   0  0  0  0  0  0  0  0  0  0  0  0\\n    1.6425   -0.8163   -0.5620 C   0  0  0  0  0  0  0  0  0  0  0  0\\n    2.9871   -0.0956   -0.7026 C   0  0  0  0  0  0  0  0  0  0  0  0\\n    3.2390    0.5900    0.6206 C   0  0  0  0  0  0  0  0  0  0  0  0\\n    4.7055    0.2935    0.8558 C   0  0  0  0  0  0  0  0  0  0  0  0\\n    5.1642   -0.2797   -0.4709 C   0  0  0  0  0  0  0  0  0  0  0  0\\n    4.0258   -0.9742   -0.9191 O   0  0  0  0  0  0  0  0  0  0  0  0\\n  1  5  2  0\\n  1  2  1  0\\n  2  3  1  0\\n  3  9  1  0\\n  3  4  2  0\\n  4  5  1  0\\n  4  6  1  0\\n  6  7  2  0\\n  6 11  1  0\\n  7  8  1  0\\n  8  9  2  0\\n  8 10  1  0\\n 11 12  1  0\\n 12 13  1  0\\n 13 17  1  0\\n 13 14  1  0\\n 14 15  1  0\\n 15 16  1  0\\n 16 17  1  0\\nM  END\\n\",\"sdf\");\n",
       "\tviewer_150400926729.setStyle({\"model\": 0},{\"line\": {\"colorscheme\": \"default\"}});\n",
       "\n",
       "                viewer_150400926729.render();\n",
       "            });\n",
       "            </script>"
      ],
      "text/plain": [
       "<IPython.core.display.HTML object>"
      ]
     },
     "metadata": {},
     "output_type": "display_data"
    },
    {
     "data": {
      "text/html": [
       "<script>\n",
       "            $3Dmolpromise.done(function() { //wrap in promise for non-interactive functionality\n",
       "                \n",
       "                viewer_150400926729.render();\n",
       "            });\n",
       "            </script>"
      ],
      "text/plain": [
       "<IPython.core.display.HTML object>"
      ]
     },
     "metadata": {},
     "output_type": "display_data"
    },
    {
     "data": {
      "text/html": [
       "<script>\n",
       "            $3Dmolpromise.done(function() { //wrap in promise for non-interactive functionality\n",
       "                \tviewer_150400926729.removeAllLabels();\n",
       "\tviewer_150400926729.removeAllModels();\n",
       "\tviewer_150400926729.removeAllSurfaces();\n",
       "\tviewer_150400926729.setBackgroundColor(\"0x000000\");\n",
       "\tviewer_150400926729.addModel(\"ZINC03814459\\n     RDKit          3D\\n\\n 17 19  0  0  1  0  0  0  0  0999 V2000\\n   -2.7070    2.7548    0.3363 C   0  0  0  0  0  0  0  0  0  0  0  0\\n   -3.5560    1.7162    0.3813 N   0  0  0  0  0  0  0  0  0  0  0  0\\n   -2.9147    0.5643    0.2019 C   0  0  0  0  0  0  0  0  0  0  0  0\\n   -1.5678    0.8778    0.0303 C   0  0  0  0  0  0  0  0  0  0  0  0\\n   -1.4917    2.2193    0.1200 N   0  0  0  0  0  0  0  0  0  0  0  0\\n   -0.6581   -0.1294   -0.1771 C   0  0  0  0  0  0  0  0  0  0  0  0\\n   -1.0881   -1.3934   -0.2098 N   0  0  0  0  0  0  0  0  0  0  0  0\\n   -2.3775   -1.7101   -0.0468 C   0  0  0  0  0  0  0  0  0  0  0  0\\n   -3.2650   -0.7287    0.1555 N   0  0  0  0  0  0  0  0  0  0  0  0\\n   -2.8171   -3.0876   -0.0866 N   0  0  0  0  0  0  0  0  0  0  0  0\\n    0.6789    0.1993   -0.3461 O   0  0  0  0  0  0  0  0  0  0  0  0\\n    1.6425   -0.8163   -0.5620 C   0  0  0  0  0  0  0  0  0  0  0  0\\n    2.9871   -0.0956   -0.7026 C   0  0  0  0  0  0  0  0  0  0  0  0\\n    3.2390    0.5900    0.6206 C   0  0  0  0  0  0  0  0  0  0  0  0\\n    4.7055    0.2935    0.8558 C   0  0  0  0  0  0  0  0  0  0  0  0\\n    5.1642   -0.2797   -0.4709 C   0  0  0  0  0  0  0  0  0  0  0  0\\n    4.0258   -0.9742   -0.9191 O   0  0  0  0  0  0  0  0  0  0  0  0\\n  1  5  2  0\\n  1  2  1  0\\n  2  3  1  0\\n  3  9  1  0\\n  3  4  2  0\\n  4  5  1  0\\n  4  6  1  0\\n  6  7  2  0\\n  6 11  1  0\\n  7  8  1  0\\n  8  9  2  0\\n  8 10  1  0\\n 11 12  1  0\\n 12 13  1  0\\n 13 17  1  0\\n 13 14  1  0\\n 14 15  1  0\\n 15 16  1  0\\n 16 17  1  0\\nM  END\\n\",\"sdf\");\n",
       "\tviewer_150400926729.setStyle({\"model\": 0},{\"line\": {\"colorscheme\": \"default\"}});\n",
       "\n",
       "                viewer_150400926729.render();\n",
       "            });\n",
       "            </script>"
      ],
      "text/plain": [
       "<IPython.core.display.HTML object>"
      ]
     },
     "metadata": {},
     "output_type": "display_data"
    }
   ],
   "source": [
    "view_3 = ipy.MolView3D(ligandDict = moldictForVisualization, \n",
    "                       ligSelPanel = 'minimal', \n",
    "                       ligStyle = 'line',\n",
    "                       propertyPanel = True,\n",
    "                       labelPanel = True)"
   ]
  },
  {
   "cell_type": "markdown",
   "metadata": {},
   "source": [
    "If you want to compare all the conformer geometry visually then you may need to use ligSelPanel = 'full'."
   ]
  },
  {
   "cell_type": "code",
   "execution_count": 18,
   "metadata": {},
   "outputs": [
    {
     "data": {
      "application/vnd.jupyter.widget-view+json": {
       "model_id": "ffa2dc7be3c44bd9aff4105020d33335"
      }
     },
     "metadata": {},
     "output_type": "display_data"
    },
    {
     "data": {
      "text/html": [
       "<div id=\"3dmolviewer_150400927133\"  style=\"position: relative; width: 435px; height: 485px\">\n",
       "<script>\n",
       "if(typeof $3Dmolpromise === 'undefined') $3Dmolpromise = $.when($.getScript('https://3dmol.csb.pitt.edu/build/3Dmol.js'))\n",
       "var viewer_150400927133 = null;\n",
       "$3Dmolpromise.done(function() {\n",
       "viewer_150400927133 = $3Dmol.createViewer($(\"#3dmolviewer_150400927133\"),{backgroundColor:\"white\"});\n",
       "\tviewer_150400927133.setBackgroundColor(\"0x000000\");\n",
       "\tviewer_150400927133.zoomTo();\n",
       "viewer_150400927133.render();\n",
       "});\n",
       "</script><script>$(\"#150400927129\").append($(\"#3dmolviewer_150400927133\")); </script>"
      ],
      "text/plain": [
       "<IPython.core.display.HTML object>"
      ]
     },
     "metadata": {},
     "output_type": "display_data"
    },
    {
     "data": {
      "text/html": [
       "<script>\n",
       "            $3Dmolpromise.done(function() { //wrap in promise for non-interactive functionality\n",
       "                \tviewer_150400927133.removeAllLabels();\n",
       "\tviewer_150400927133.removeAllModels();\n",
       "\tviewer_150400927133.removeAllSurfaces();\n",
       "\tviewer_150400927133.setBackgroundColor(\"0x000000\");\n",
       "\tviewer_150400927133.addModel(\"ZINC03814459\\n     RDKit          3D\\n\\n 17 19  0  0  1  0  0  0  0  0999 V2000\\n   -2.7070    2.7548    0.3363 C   0  0  0  0  0  0  0  0  0  0  0  0\\n   -3.5560    1.7162    0.3813 N   0  0  0  0  0  0  0  0  0  0  0  0\\n   -2.9147    0.5643    0.2019 C   0  0  0  0  0  0  0  0  0  0  0  0\\n   -1.5678    0.8778    0.0303 C   0  0  0  0  0  0  0  0  0  0  0  0\\n   -1.4917    2.2193    0.1200 N   0  0  0  0  0  0  0  0  0  0  0  0\\n   -0.6581   -0.1294   -0.1771 C   0  0  0  0  0  0  0  0  0  0  0  0\\n   -1.0881   -1.3934   -0.2098 N   0  0  0  0  0  0  0  0  0  0  0  0\\n   -2.3775   -1.7101   -0.0468 C   0  0  0  0  0  0  0  0  0  0  0  0\\n   -3.2650   -0.7287    0.1555 N   0  0  0  0  0  0  0  0  0  0  0  0\\n   -2.8171   -3.0876   -0.0866 N   0  0  0  0  0  0  0  0  0  0  0  0\\n    0.6789    0.1993   -0.3461 O   0  0  0  0  0  0  0  0  0  0  0  0\\n    1.6425   -0.8163   -0.5620 C   0  0  0  0  0  0  0  0  0  0  0  0\\n    2.9871   -0.0956   -0.7026 C   0  0  0  0  0  0  0  0  0  0  0  0\\n    3.2390    0.5900    0.6206 C   0  0  0  0  0  0  0  0  0  0  0  0\\n    4.7055    0.2935    0.8558 C   0  0  0  0  0  0  0  0  0  0  0  0\\n    5.1642   -0.2797   -0.4709 C   0  0  0  0  0  0  0  0  0  0  0  0\\n    4.0258   -0.9742   -0.9191 O   0  0  0  0  0  0  0  0  0  0  0  0\\n  1  5  2  0\\n  1  2  1  0\\n  2  3  1  0\\n  3  9  1  0\\n  3  4  2  0\\n  4  5  1  0\\n  4  6  1  0\\n  6  7  2  0\\n  6 11  1  0\\n  7  8  1  0\\n  8  9  2  0\\n  8 10  1  0\\n 11 12  1  0\\n 12 13  1  0\\n 13 17  1  0\\n 13 14  1  0\\n 14 15  1  0\\n 15 16  1  0\\n 16 17  1  0\\nM  END\\n\",\"sdf\");\n",
       "\tviewer_150400927133.setStyle({\"model\": 0},{\"line\": {\"colorscheme\": \"default\"}});\n",
       "\tviewer_150400927133.zoomTo();\n",
       "\tviewer_150400927133.removeAllLabels();\n",
       "\tviewer_150400927133.removeAllModels();\n",
       "\tviewer_150400927133.removeAllSurfaces();\n",
       "\tviewer_150400927133.setBackgroundColor(\"0x000000\");\n",
       "\tviewer_150400927133.addModel(\"ZINC03814459\\n     RDKit          3D\\n\\n 17 19  0  0  1  0  0  0  0  0999 V2000\\n   -2.7070    2.7548    0.3363 C   0  0  0  0  0  0  0  0  0  0  0  0\\n   -3.5560    1.7162    0.3813 N   0  0  0  0  0  0  0  0  0  0  0  0\\n   -2.9147    0.5643    0.2019 C   0  0  0  0  0  0  0  0  0  0  0  0\\n   -1.5678    0.8778    0.0303 C   0  0  0  0  0  0  0  0  0  0  0  0\\n   -1.4917    2.2193    0.1200 N   0  0  0  0  0  0  0  0  0  0  0  0\\n   -0.6581   -0.1294   -0.1771 C   0  0  0  0  0  0  0  0  0  0  0  0\\n   -1.0881   -1.3934   -0.2098 N   0  0  0  0  0  0  0  0  0  0  0  0\\n   -2.3775   -1.7101   -0.0468 C   0  0  0  0  0  0  0  0  0  0  0  0\\n   -3.2650   -0.7287    0.1555 N   0  0  0  0  0  0  0  0  0  0  0  0\\n   -2.8171   -3.0876   -0.0866 N   0  0  0  0  0  0  0  0  0  0  0  0\\n    0.6789    0.1993   -0.3461 O   0  0  0  0  0  0  0  0  0  0  0  0\\n    1.6425   -0.8163   -0.5620 C   0  0  0  0  0  0  0  0  0  0  0  0\\n    2.9871   -0.0956   -0.7026 C   0  0  0  0  0  0  0  0  0  0  0  0\\n    3.2390    0.5900    0.6206 C   0  0  0  0  0  0  0  0  0  0  0  0\\n    4.7055    0.2935    0.8558 C   0  0  0  0  0  0  0  0  0  0  0  0\\n    5.1642   -0.2797   -0.4709 C   0  0  0  0  0  0  0  0  0  0  0  0\\n    4.0258   -0.9742   -0.9191 O   0  0  0  0  0  0  0  0  0  0  0  0\\n  1  5  2  0\\n  1  2  1  0\\n  2  3  1  0\\n  3  9  1  0\\n  3  4  2  0\\n  4  5  1  0\\n  4  6  1  0\\n  6  7  2  0\\n  6 11  1  0\\n  7  8  1  0\\n  8  9  2  0\\n  8 10  1  0\\n 11 12  1  0\\n 12 13  1  0\\n 13 17  1  0\\n 13 14  1  0\\n 14 15  1  0\\n 15 16  1  0\\n 16 17  1  0\\nM  END\\n\",\"sdf\");\n",
       "\tviewer_150400927133.setStyle({\"model\": 0},{\"line\": {\"colorscheme\": \"default\"}});\n",
       "\n",
       "                viewer_150400927133.render();\n",
       "            });\n",
       "            </script>"
      ],
      "text/plain": [
       "<IPython.core.display.HTML object>"
      ]
     },
     "metadata": {},
     "output_type": "display_data"
    },
    {
     "data": {
      "text/html": [
       "<script>\n",
       "            $3Dmolpromise.done(function() { //wrap in promise for non-interactive functionality\n",
       "                \n",
       "                viewer_150400927133.render();\n",
       "            });\n",
       "            </script>"
      ],
      "text/plain": [
       "<IPython.core.display.HTML object>"
      ]
     },
     "metadata": {},
     "output_type": "display_data"
    },
    {
     "data": {
      "text/html": [
       "<script>\n",
       "            $3Dmolpromise.done(function() { //wrap in promise for non-interactive functionality\n",
       "                \tviewer_150400927133.removeAllLabels();\n",
       "\tviewer_150400927133.removeAllModels();\n",
       "\tviewer_150400927133.removeAllSurfaces();\n",
       "\tviewer_150400927133.setBackgroundColor(\"0x000000\");\n",
       "\tviewer_150400927133.addModel(\"ZINC03814459\\n     RDKit          3D\\n\\n 17 19  0  0  1  0  0  0  0  0999 V2000\\n   -2.7070    2.7548    0.3363 C   0  0  0  0  0  0  0  0  0  0  0  0\\n   -3.5560    1.7162    0.3813 N   0  0  0  0  0  0  0  0  0  0  0  0\\n   -2.9147    0.5643    0.2019 C   0  0  0  0  0  0  0  0  0  0  0  0\\n   -1.5678    0.8778    0.0303 C   0  0  0  0  0  0  0  0  0  0  0  0\\n   -1.4917    2.2193    0.1200 N   0  0  0  0  0  0  0  0  0  0  0  0\\n   -0.6581   -0.1294   -0.1771 C   0  0  0  0  0  0  0  0  0  0  0  0\\n   -1.0881   -1.3934   -0.2098 N   0  0  0  0  0  0  0  0  0  0  0  0\\n   -2.3775   -1.7101   -0.0468 C   0  0  0  0  0  0  0  0  0  0  0  0\\n   -3.2650   -0.7287    0.1555 N   0  0  0  0  0  0  0  0  0  0  0  0\\n   -2.8171   -3.0876   -0.0866 N   0  0  0  0  0  0  0  0  0  0  0  0\\n    0.6789    0.1993   -0.3461 O   0  0  0  0  0  0  0  0  0  0  0  0\\n    1.6425   -0.8163   -0.5620 C   0  0  0  0  0  0  0  0  0  0  0  0\\n    2.9871   -0.0956   -0.7026 C   0  0  0  0  0  0  0  0  0  0  0  0\\n    3.2390    0.5900    0.6206 C   0  0  0  0  0  0  0  0  0  0  0  0\\n    4.7055    0.2935    0.8558 C   0  0  0  0  0  0  0  0  0  0  0  0\\n    5.1642   -0.2797   -0.4709 C   0  0  0  0  0  0  0  0  0  0  0  0\\n    4.0258   -0.9742   -0.9191 O   0  0  0  0  0  0  0  0  0  0  0  0\\n  1  5  2  0\\n  1  2  1  0\\n  2  3  1  0\\n  3  9  1  0\\n  3  4  2  0\\n  4  5  1  0\\n  4  6  1  0\\n  6  7  2  0\\n  6 11  1  0\\n  7  8  1  0\\n  8  9  2  0\\n  8 10  1  0\\n 11 12  1  0\\n 12 13  1  0\\n 13 17  1  0\\n 13 14  1  0\\n 14 15  1  0\\n 15 16  1  0\\n 16 17  1  0\\nM  END\\n\",\"sdf\");\n",
       "\tviewer_150400927133.setStyle({\"model\": 0},{\"line\": {\"colorscheme\": \"default\"}});\n",
       "\n",
       "                viewer_150400927133.render();\n",
       "            });\n",
       "            </script>"
      ],
      "text/plain": [
       "<IPython.core.display.HTML object>"
      ]
     },
     "metadata": {},
     "output_type": "display_data"
    }
   ],
   "source": [
    "view_4 = ipy.MolView3D(ligandDict = moldictForVisualization, \n",
    "                       ligSelPanel = 'full', \n",
    "                       ligStyle = 'line',\n",
    "                       propertyPanel = True,\n",
    "                       labelPanel = True)"
   ]
  },
  {
   "cell_type": "markdown",
   "metadata": {},
   "source": [
    "We also can also change molecule representation style. To do this we can use stylePanel = 'lig'. "
   ]
  },
  {
   "cell_type": "code",
   "execution_count": 19,
   "metadata": {},
   "outputs": [
    {
     "data": {
      "application/vnd.jupyter.widget-view+json": {
       "model_id": "242d91ff041d4fe9a59e6437ed78f243"
      }
     },
     "metadata": {},
     "output_type": "display_data"
    },
    {
     "data": {
      "text/html": [
       "<div id=\"3dmolviewer_150400927519\"  style=\"position: relative; width: 435px; height: 485px\">\n",
       "<script>\n",
       "if(typeof $3Dmolpromise === 'undefined') $3Dmolpromise = $.when($.getScript('https://3dmol.csb.pitt.edu/build/3Dmol.js'))\n",
       "var viewer_150400927519 = null;\n",
       "$3Dmolpromise.done(function() {\n",
       "viewer_150400927519 = $3Dmol.createViewer($(\"#3dmolviewer_150400927519\"),{backgroundColor:\"white\"});\n",
       "\tviewer_150400927519.setBackgroundColor(\"0x000000\");\n",
       "\tviewer_150400927519.zoomTo();\n",
       "viewer_150400927519.render();\n",
       "});\n",
       "</script><script>$(\"#150400927515\").append($(\"#3dmolviewer_150400927519\")); </script>"
      ],
      "text/plain": [
       "<IPython.core.display.HTML object>"
      ]
     },
     "metadata": {},
     "output_type": "display_data"
    },
    {
     "data": {
      "text/html": [
       "<script>\n",
       "            $3Dmolpromise.done(function() { //wrap in promise for non-interactive functionality\n",
       "                \tviewer_150400927519.removeAllLabels();\n",
       "\tviewer_150400927519.removeAllModels();\n",
       "\tviewer_150400927519.removeAllSurfaces();\n",
       "\tviewer_150400927519.setBackgroundColor(\"0x000000\");\n",
       "\tviewer_150400927519.addModel(\"ZINC03814459\\n     RDKit          3D\\n\\n 17 19  0  0  1  0  0  0  0  0999 V2000\\n   -2.7070    2.7548    0.3363 C   0  0  0  0  0  0  0  0  0  0  0  0\\n   -3.5560    1.7162    0.3813 N   0  0  0  0  0  0  0  0  0  0  0  0\\n   -2.9147    0.5643    0.2019 C   0  0  0  0  0  0  0  0  0  0  0  0\\n   -1.5678    0.8778    0.0303 C   0  0  0  0  0  0  0  0  0  0  0  0\\n   -1.4917    2.2193    0.1200 N   0  0  0  0  0  0  0  0  0  0  0  0\\n   -0.6581   -0.1294   -0.1771 C   0  0  0  0  0  0  0  0  0  0  0  0\\n   -1.0881   -1.3934   -0.2098 N   0  0  0  0  0  0  0  0  0  0  0  0\\n   -2.3775   -1.7101   -0.0468 C   0  0  0  0  0  0  0  0  0  0  0  0\\n   -3.2650   -0.7287    0.1555 N   0  0  0  0  0  0  0  0  0  0  0  0\\n   -2.8171   -3.0876   -0.0866 N   0  0  0  0  0  0  0  0  0  0  0  0\\n    0.6789    0.1993   -0.3461 O   0  0  0  0  0  0  0  0  0  0  0  0\\n    1.6425   -0.8163   -0.5620 C   0  0  0  0  0  0  0  0  0  0  0  0\\n    2.9871   -0.0956   -0.7026 C   0  0  0  0  0  0  0  0  0  0  0  0\\n    3.2390    0.5900    0.6206 C   0  0  0  0  0  0  0  0  0  0  0  0\\n    4.7055    0.2935    0.8558 C   0  0  0  0  0  0  0  0  0  0  0  0\\n    5.1642   -0.2797   -0.4709 C   0  0  0  0  0  0  0  0  0  0  0  0\\n    4.0258   -0.9742   -0.9191 O   0  0  0  0  0  0  0  0  0  0  0  0\\n  1  5  2  0\\n  1  2  1  0\\n  2  3  1  0\\n  3  9  1  0\\n  3  4  2  0\\n  4  5  1  0\\n  4  6  1  0\\n  6  7  2  0\\n  6 11  1  0\\n  7  8  1  0\\n  8  9  2  0\\n  8 10  1  0\\n 11 12  1  0\\n 12 13  1  0\\n 13 17  1  0\\n 13 14  1  0\\n 14 15  1  0\\n 15 16  1  0\\n 16 17  1  0\\nM  END\\n\",\"sdf\");\n",
       "\tviewer_150400927519.setStyle({\"model\": 0},{\"line\": {\"colorscheme\": \"default\"}});\n",
       "\tviewer_150400927519.zoomTo();\n",
       "\tviewer_150400927519.removeAllLabels();\n",
       "\tviewer_150400927519.removeAllModels();\n",
       "\tviewer_150400927519.removeAllSurfaces();\n",
       "\tviewer_150400927519.setBackgroundColor(\"0x000000\");\n",
       "\tviewer_150400927519.addModel(\"ZINC03814459\\n     RDKit          3D\\n\\n 17 19  0  0  1  0  0  0  0  0999 V2000\\n   -2.7070    2.7548    0.3363 C   0  0  0  0  0  0  0  0  0  0  0  0\\n   -3.5560    1.7162    0.3813 N   0  0  0  0  0  0  0  0  0  0  0  0\\n   -2.9147    0.5643    0.2019 C   0  0  0  0  0  0  0  0  0  0  0  0\\n   -1.5678    0.8778    0.0303 C   0  0  0  0  0  0  0  0  0  0  0  0\\n   -1.4917    2.2193    0.1200 N   0  0  0  0  0  0  0  0  0  0  0  0\\n   -0.6581   -0.1294   -0.1771 C   0  0  0  0  0  0  0  0  0  0  0  0\\n   -1.0881   -1.3934   -0.2098 N   0  0  0  0  0  0  0  0  0  0  0  0\\n   -2.3775   -1.7101   -0.0468 C   0  0  0  0  0  0  0  0  0  0  0  0\\n   -3.2650   -0.7287    0.1555 N   0  0  0  0  0  0  0  0  0  0  0  0\\n   -2.8171   -3.0876   -0.0866 N   0  0  0  0  0  0  0  0  0  0  0  0\\n    0.6789    0.1993   -0.3461 O   0  0  0  0  0  0  0  0  0  0  0  0\\n    1.6425   -0.8163   -0.5620 C   0  0  0  0  0  0  0  0  0  0  0  0\\n    2.9871   -0.0956   -0.7026 C   0  0  0  0  0  0  0  0  0  0  0  0\\n    3.2390    0.5900    0.6206 C   0  0  0  0  0  0  0  0  0  0  0  0\\n    4.7055    0.2935    0.8558 C   0  0  0  0  0  0  0  0  0  0  0  0\\n    5.1642   -0.2797   -0.4709 C   0  0  0  0  0  0  0  0  0  0  0  0\\n    4.0258   -0.9742   -0.9191 O   0  0  0  0  0  0  0  0  0  0  0  0\\n  1  5  2  0\\n  1  2  1  0\\n  2  3  1  0\\n  3  9  1  0\\n  3  4  2  0\\n  4  5  1  0\\n  4  6  1  0\\n  6  7  2  0\\n  6 11  1  0\\n  7  8  1  0\\n  8  9  2  0\\n  8 10  1  0\\n 11 12  1  0\\n 12 13  1  0\\n 13 17  1  0\\n 13 14  1  0\\n 14 15  1  0\\n 15 16  1  0\\n 16 17  1  0\\nM  END\\n\",\"sdf\");\n",
       "\tviewer_150400927519.setStyle({\"model\": 0},{\"line\": {\"colorscheme\": \"default\"}});\n",
       "\n",
       "                viewer_150400927519.render();\n",
       "            });\n",
       "            </script>"
      ],
      "text/plain": [
       "<IPython.core.display.HTML object>"
      ]
     },
     "metadata": {},
     "output_type": "display_data"
    },
    {
     "data": {
      "text/html": [
       "<script>\n",
       "            $3Dmolpromise.done(function() { //wrap in promise for non-interactive functionality\n",
       "                \n",
       "                viewer_150400927519.render();\n",
       "            });\n",
       "            </script>"
      ],
      "text/plain": [
       "<IPython.core.display.HTML object>"
      ]
     },
     "metadata": {},
     "output_type": "display_data"
    },
    {
     "data": {
      "text/html": [
       "<script>\n",
       "            $3Dmolpromise.done(function() { //wrap in promise for non-interactive functionality\n",
       "                \tviewer_150400927519.removeAllLabels();\n",
       "\tviewer_150400927519.removeAllModels();\n",
       "\tviewer_150400927519.removeAllSurfaces();\n",
       "\tviewer_150400927519.setBackgroundColor(\"0x000000\");\n",
       "\tviewer_150400927519.addModel(\"ZINC03814459\\n     RDKit          3D\\n\\n 17 19  0  0  1  0  0  0  0  0999 V2000\\n   -2.7070    2.7548    0.3363 C   0  0  0  0  0  0  0  0  0  0  0  0\\n   -3.5560    1.7162    0.3813 N   0  0  0  0  0  0  0  0  0  0  0  0\\n   -2.9147    0.5643    0.2019 C   0  0  0  0  0  0  0  0  0  0  0  0\\n   -1.5678    0.8778    0.0303 C   0  0  0  0  0  0  0  0  0  0  0  0\\n   -1.4917    2.2193    0.1200 N   0  0  0  0  0  0  0  0  0  0  0  0\\n   -0.6581   -0.1294   -0.1771 C   0  0  0  0  0  0  0  0  0  0  0  0\\n   -1.0881   -1.3934   -0.2098 N   0  0  0  0  0  0  0  0  0  0  0  0\\n   -2.3775   -1.7101   -0.0468 C   0  0  0  0  0  0  0  0  0  0  0  0\\n   -3.2650   -0.7287    0.1555 N   0  0  0  0  0  0  0  0  0  0  0  0\\n   -2.8171   -3.0876   -0.0866 N   0  0  0  0  0  0  0  0  0  0  0  0\\n    0.6789    0.1993   -0.3461 O   0  0  0  0  0  0  0  0  0  0  0  0\\n    1.6425   -0.8163   -0.5620 C   0  0  0  0  0  0  0  0  0  0  0  0\\n    2.9871   -0.0956   -0.7026 C   0  0  0  0  0  0  0  0  0  0  0  0\\n    3.2390    0.5900    0.6206 C   0  0  0  0  0  0  0  0  0  0  0  0\\n    4.7055    0.2935    0.8558 C   0  0  0  0  0  0  0  0  0  0  0  0\\n    5.1642   -0.2797   -0.4709 C   0  0  0  0  0  0  0  0  0  0  0  0\\n    4.0258   -0.9742   -0.9191 O   0  0  0  0  0  0  0  0  0  0  0  0\\n  1  5  2  0\\n  1  2  1  0\\n  2  3  1  0\\n  3  9  1  0\\n  3  4  2  0\\n  4  5  1  0\\n  4  6  1  0\\n  6  7  2  0\\n  6 11  1  0\\n  7  8  1  0\\n  8  9  2  0\\n  8 10  1  0\\n 11 12  1  0\\n 12 13  1  0\\n 13 17  1  0\\n 13 14  1  0\\n 14 15  1  0\\n 15 16  1  0\\n 16 17  1  0\\nM  END\\n\",\"sdf\");\n",
       "\tviewer_150400927519.setStyle({\"model\": 0},{\"line\": {\"colorscheme\": \"default\"}});\n",
       "\n",
       "                viewer_150400927519.render();\n",
       "            });\n",
       "            </script>"
      ],
      "text/plain": [
       "<IPython.core.display.HTML object>"
      ]
     },
     "metadata": {},
     "output_type": "display_data"
    }
   ],
   "source": [
    "view_5 = ipy.MolView3D(ligandDict = moldictForVisualization, \n",
    "                       ligSelPanel = 'full', \n",
    "                       ligStyle = 'line',\n",
    "                       propertyPanel = True,\n",
    "                       labelPanel = True,\n",
    "                       stylePanel = 'lig')"
   ]
  },
  {
   "cell_type": "markdown",
   "metadata": {},
   "source": [
    "Please note: due to some unknown reasons, molecule/conformer selection through python codes are not working for stick models in some browser. We are trying to solve this issue."
   ]
  },
  {
   "cell_type": "markdown",
   "metadata": {},
   "source": [
    "Anoter note: We still have not seen what is written in moldictForVisualization. Let's see it!"
   ]
  },
  {
   "cell_type": "code",
   "execution_count": 20,
   "metadata": {},
   "outputs": [
    {
     "data": {
      "text/plain": [
       "{'0': {'parent': <rdkit.Chem.rdchem.Mol at 0x7febe132e1a0>},\n",
       " '1': {'parent': <rdkit.Chem.rdchem.Mol at 0x7febe132e210>},\n",
       " '2': {'parent': <rdkit.Chem.rdchem.Mol at 0x7febe132e280>},\n",
       " '3': {'parent': <rdkit.Chem.rdchem.Mol at 0x7febe132e2f0>}}"
      ]
     },
     "execution_count": 20,
     "metadata": {},
     "output_type": "execute_result"
    }
   ],
   "source": [
    "moldictForVisualization"
   ]
  },
  {
   "cell_type": "markdown",
   "metadata": {},
   "source": [
    "And our first created dict looked like:"
   ]
  },
  {
   "cell_type": "code",
   "execution_count": 21,
   "metadata": {},
   "outputs": [
    {
     "data": {
      "text/plain": [
       "{'0': <rdkit.Chem.rdchem.Mol at 0x7febe132e1a0>,\n",
       " '1': <rdkit.Chem.rdchem.Mol at 0x7febe132e210>,\n",
       " '2': <rdkit.Chem.rdchem.Mol at 0x7febe132e280>,\n",
       " '3': <rdkit.Chem.rdchem.Mol at 0x7febe132e2f0>}"
      ]
     },
     "execution_count": 21,
     "metadata": {},
     "output_type": "execute_result"
    }
   ],
   "source": [
    "molDict"
   ]
  },
  {
   "cell_type": "markdown",
   "metadata": {},
   "source": [
    "So, the function ProcessLigandDict actually adds another key named 'parent'. We can add custom keys replacing the default key - 'parent'. We will discuss it in the notebook demostrating energy minimization."
   ]
  },
  {
   "cell_type": "markdown",
   "metadata": {},
   "source": [
    "### Thank you very much for your time. Have a great day! "
   ]
  }
 ],
 "metadata": {
  "kernelspec": {
   "display_name": "Python 2",
   "language": "python",
   "name": "python2"
  },
  "language_info": {
   "codemirror_mode": {
    "name": "ipython",
    "version": 2
   },
   "file_extension": ".py",
   "mimetype": "text/x-python",
   "name": "python",
   "nbconvert_exporter": "python",
   "pygments_lexer": "ipython2",
   "version": "2.7.13"
  }
 },
 "nbformat": 4,
 "nbformat_minor": 2
}
